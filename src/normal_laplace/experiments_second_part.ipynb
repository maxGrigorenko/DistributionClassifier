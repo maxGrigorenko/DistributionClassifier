{
  "nbformat": 4,
  "nbformat_minor": 0,
  "metadata": {
    "colab": {
      "provenance": [],
      "authorship_tag": "ABX9TyNZ60t91PbmE8pGZ7I1ReS0",
      "include_colab_link": true
    },
    "kernelspec": {
      "name": "python3",
      "display_name": "Python 3"
    },
    "language_info": {
      "name": "python"
    }
  },
  "cells": [
    {
      "cell_type": "markdown",
      "metadata": {
        "id": "view-in-github",
        "colab_type": "text"
      },
      "source": [
        "<a href=\"https://colab.research.google.com/github/maxGrigorenko/DistributionClassifier/blob/maxGrigorenko%2Fsecond_part/src/normal_laplace/experiments_second_part.ipynb\" target=\"_parent\"><img src=\"https://colab.research.google.com/assets/colab-badge.svg\" alt=\"Open In Colab\"/></a>"
      ]
    },
    {
      "cell_type": "markdown",
      "source": [
        "# Классификация распределений. Второая часть проекта,\n",
        "## Построение собственного классификатора"
      ],
      "metadata": {
        "id": "BERluZVDPDN9"
      }
    },
    {
      "cell_type": "code",
      "source": [
        "import numpy as np\n",
        "import pandas as pd\n",
        "import matplotlib.pyplot as plt\n",
        "from tqdm import tqdm\n",
        "from itertools import product\n",
        "from scipy import stats as st\n",
        "\n",
        "from graph_common_functions import *\n",
        "from distibution_functions import *"
      ],
      "metadata": {
        "id": "ghcSALa8Pc8C"
      },
      "execution_count": 1,
      "outputs": []
    },
    {
      "cell_type": "code",
      "execution_count": 33,
      "metadata": {
        "id": "_ooxQ-1SNLsK"
      },
      "outputs": [],
      "source": [
        "from sklearn.metrics import accuracy_score, precision_score, recall_score\n",
        "from sklearn.ensemble import RandomForestClassifier\n",
        "from sklearn.preprocessing import LabelEncoder\n",
        "\n",
        "class DistribituionClassifier:\n",
        "    def __init__(self, n, clf, sigma=1, beta=(1/2) ** 0.5):\n",
        "        self.n = n\n",
        "        self.sigma = sigma\n",
        "        self.beta = beta\n",
        "        self.clf = clf\n",
        "\n",
        "\n",
        "    def make_data(self, number_of_experiments):\n",
        "        n = self.n\n",
        "\n",
        "        data = pd.DataFrame()\n",
        "\n",
        "        sub_data = []\n",
        "        features = ['delta', 'mean_degree', 'max_degree', 'dominating_number', 'clique_number']\n",
        "\n",
        "        for disrtibution in 'normal', 'laplace':\n",
        "            for _ in range(number_of_experiments):\n",
        "                if disrtibution == 'normal':\n",
        "                    array = generate_normal(self.sigma, n)\n",
        "                else:\n",
        "                    array = generate_laplace(self.beta, n)\n",
        "\n",
        "                features_d = []\n",
        "\n",
        "                for d in [0.3, 1.0, 2.0, 3.5]:\n",
        "                    g = distance_graph_constructor(array, d)\n",
        "                    delta = g.compute_delta()\n",
        "                    mean_degree = g.compute_mean_degree()\n",
        "                    max_degree = g.compute_max_degree()\n",
        "                    dominating_number = g.compute_dominating_number(d)\n",
        "                    clique_number = g.compute_clique_number(d)\n",
        "                    features_d.append([delta, mean_degree, max_degree, dominating_number, clique_number])\n",
        "\n",
        "                params = dict()\n",
        "                for i in range(len(features_d)):\n",
        "                    for j, f in enumerate(features):\n",
        "                        params.update({f\"{f}_{i}\": features_d[i][j]})\n",
        "\n",
        "                params.update({\"distribution\": disrtibution})\n",
        "                sub_data.append(params)\n",
        "\n",
        "        data = pd.concat([data, pd.DataFrame(sub_data)], ignore_index=True)\n",
        "        return data\n",
        "\n",
        "    def fit(self, number_of_experiments=1000):\n",
        "        data = self.make_data(number_of_experiments=number_of_experiments)\n",
        "        X = data.drop('distribution', axis=1)\n",
        "        y = data['distribution']\n",
        "        encoder = LabelEncoder()\n",
        "        encoder.fit(y)\n",
        "        y = encoder.transform(y)\n",
        "        self.clf.fit(X, y)\n",
        "\n",
        "    def predict(self, X):\n",
        "        return self.clf.predict(X)\n",
        "\n",
        "    def estimate(self, number_of_test=100):\n",
        "        data = self.make_data(number_of_experiments=number_of_test)\n",
        "        X_test = data.drop('distribution', axis=1)\n",
        "        y = data['distribution']\n",
        "        encoder = LabelEncoder()\n",
        "        encoder.fit(y)\n",
        "        y_test = encoder.transform(y)\n",
        "        y_pred = np.array(self.clf.predict(X_test))\n",
        "        acc = accuracy_score(y_test, y_pred)\n",
        "        precision = precision_score(y_test, y_pred)\n",
        "        recall = recall_score(y_test, y_pred)\n",
        "        return {\n",
        "            'accuracy': acc,\n",
        "            'precision': precision,\n",
        "            'recall': recall\n",
        "        }\n"
      ]
    },
    {
      "cell_type": "code",
      "source": [
        "d_clf = DistribituionClassifier(n=100, clf=RandomForestClassifier())\n",
        "d_clf.fit(number_of_experiments=5_000)"
      ],
      "metadata": {
        "id": "a1On32a5NV--"
      },
      "execution_count": 37,
      "outputs": []
    },
    {
      "cell_type": "code",
      "source": [
        "d_clf.estimate(1_000)"
      ],
      "metadata": {
        "colab": {
          "base_uri": "https://localhost:8080/"
        },
        "id": "x2F7iUl-Znvh",
        "outputId": "a097567d-b7ef-405a-bacd-51949eb6bfe3"
      },
      "execution_count": 38,
      "outputs": [
        {
          "output_type": "execute_result",
          "data": {
            "text/plain": [
              "{'accuracy': 0.951, 'precision': 0.9492031872509961, 'recall': 0.953}"
            ]
          },
          "metadata": {},
          "execution_count": 38
        }
      ]
    }
  ]
}