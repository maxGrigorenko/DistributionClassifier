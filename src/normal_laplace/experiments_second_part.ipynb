{
  "nbformat": 4,
  "nbformat_minor": 0,
  "metadata": {
    "colab": {
      "provenance": [],
      "authorship_tag": "ABX9TyPV1ojq+fw4fdtEHpBSfdR+",
      "include_colab_link": true
    },
    "kernelspec": {
      "name": "python3",
      "display_name": "Python 3"
    },
    "language_info": {
      "name": "python"
    }
  },
  "cells": [
    {
      "cell_type": "markdown",
      "metadata": {
        "id": "view-in-github",
        "colab_type": "text"
      },
      "source": [
        "<a href=\"https://colab.research.google.com/github/maxGrigorenko/DistributionClassifier/blob/main/src/normal_laplace/experiments_second_part.ipynb\" target=\"_parent\"><img src=\"https://colab.research.google.com/assets/colab-badge.svg\" alt=\"Open In Colab\"/></a>"
      ]
    },
    {
      "cell_type": "markdown",
      "source": [
        "# Классификация распределений. Второая часть проекта,\n",
        "## Построение собственного классификатора"
      ],
      "metadata": {
        "id": "BERluZVDPDN9"
      }
    },
    {
      "cell_type": "code",
      "source": [
        "import numpy as np\n",
        "import pandas as pd\n",
        "import matplotlib.pyplot as plt\n",
        "from tqdm import tqdm\n",
        "from itertools import product\n",
        "from scipy import stats as st\n",
        "\n",
        "from graph_common_functions import *\n",
        "from distibution_functions import *"
      ],
      "metadata": {
        "id": "ghcSALa8Pc8C"
      },
      "execution_count": 5,
      "outputs": []
    },
    {
      "cell_type": "code",
      "execution_count": 6,
      "metadata": {
        "id": "_ooxQ-1SNLsK"
      },
      "outputs": [],
      "source": [
        "from sklearn.metrics import accuracy_score, precision_score, recall_score\n",
        "from sklearn.ensemble import RandomForestClassifier\n",
        "from sklearn.preprocessing import LabelEncoder\n",
        "\n",
        "class DistribituionClassifier:\n",
        "    def __init__(self, n, clf, sigma=1, beta=(1/2) ** 0.5):\n",
        "        self.n = n\n",
        "        self.sigma = sigma\n",
        "        self.beta = beta\n",
        "        self.clf = clf\n",
        "\n",
        "\n",
        "    def make_data(self, number_of_experiments):\n",
        "        n = self.n\n",
        "\n",
        "        data = pd.DataFrame()\n",
        "\n",
        "        sub_data = []\n",
        "        features = ['delta', 'mean_degree', 'max_degree', 'dominating_number', 'clique_number']\n",
        "\n",
        "        for disrtibution in 'normal', 'laplace':\n",
        "            for _ in range(number_of_experiments):\n",
        "                if disrtibution == 'normal':\n",
        "                    array = generate_normal(self.sigma, n)\n",
        "                else:\n",
        "                    array = generate_laplace(self.beta, n)\n",
        "\n",
        "                features_d = []\n",
        "\n",
        "                for d in [0.3, 1.0, 2.0, 3.5]:\n",
        "                    g = distance_graph_constructor(array, d)\n",
        "                    delta = g.compute_delta()\n",
        "                    mean_degree = g.compute_mean_degree()\n",
        "                    max_degree = g.compute_max_degree()\n",
        "                    dominating_number = g.compute_dominating_number(d)\n",
        "                    clique_number = g.compute_clique_number(d)\n",
        "                    features_d.append([delta, mean_degree, max_degree, dominating_number, clique_number])\n",
        "\n",
        "                params = dict()\n",
        "                for i in range(len(features_d)):\n",
        "                    for j, f in enumerate(features):\n",
        "                        params.update({f\"{f}_{i}\": features_d[i][j]})\n",
        "\n",
        "                params.update({\"distribution\": disrtibution})\n",
        "                sub_data.append(params)\n",
        "\n",
        "        data = pd.concat([data, pd.DataFrame(sub_data)], ignore_index=True)\n",
        "        return data\n",
        "\n",
        "    def fit(self, number_of_experiments=1000):\n",
        "        data = self.make_data(number_of_experiments=number_of_experiments)\n",
        "        X = data.drop('distribution', axis=1)\n",
        "        y = data['distribution']\n",
        "        y = [int(r == 'laplace') for r in y]\n",
        "        # 'normal' --> 0\n",
        "        # 'laplace' --> 1\n",
        "        self.clf.fit(X, y)\n",
        "\n",
        "    def predict(self, X):\n",
        "        return self.clf.predict(X)\n",
        "\n",
        "    def estimate(self, number_of_test=100):\n",
        "        data = self.make_data(number_of_experiments=number_of_test)\n",
        "        X_test = data.drop('distribution', axis=1)\n",
        "        y = data['distribution']\n",
        "        y_test = [int(r == 'laplace') for r in y]\n",
        "        y_pred = np.array(self.clf.predict(X_test))\n",
        "        acc = accuracy_score(y_test, y_pred)\n",
        "        precision = precision_score(y_test, y_pred)\n",
        "        recall = recall_score(y_test, y_pred)\n",
        "        return {\n",
        "            'accuracy': acc,\n",
        "            'precision': precision,\n",
        "            'recall': recall\n",
        "        }\n"
      ]
    },
    {
      "cell_type": "markdown",
      "source": [
        "Протестируем с классификатором RandomForest:"
      ],
      "metadata": {
        "id": "Bq_sFQ4OvQiz"
      }
    },
    {
      "cell_type": "code",
      "source": [
        "d_clf_25 = DistribituionClassifier(n=25, clf=RandomForestClassifier())\n",
        "d_clf_25.fit(number_of_experiments=1_000)\n",
        "d_clf_25.estimate(1_000)"
      ],
      "metadata": {
        "colab": {
          "base_uri": "https://localhost:8080/"
        },
        "id": "a1On32a5NV--",
        "outputId": "5fddc60c-9c9f-4948-f9df-7f20cb8ca995"
      },
      "execution_count": null,
      "outputs": [
        {
          "output_type": "execute_result",
          "data": {
            "text/plain": [
              "{'accuracy': 0.7585, 'precision': 0.7706806282722513, 'recall': 0.736}"
            ]
          },
          "metadata": {},
          "execution_count": 9
        }
      ]
    },
    {
      "cell_type": "code",
      "source": [
        "d_clf_100 = DistribituionClassifier(n=100, clf=RandomForestClassifier())\n",
        "d_clf_100.fit(number_of_experiments=100)\n",
        "d_clf_100.estimate(100)"
      ],
      "metadata": {
        "colab": {
          "base_uri": "https://localhost:8080/"
        },
        "id": "x2F7iUl-Znvh",
        "outputId": "81e54e4d-cdd5-4a5c-d47c-77bd89f629b6"
      },
      "execution_count": null,
      "outputs": [
        {
          "output_type": "execute_result",
          "data": {
            "text/plain": [
              "{'accuracy': 0.935, 'precision': 0.9142857142857143, 'recall': 0.96}"
            ]
          },
          "metadata": {},
          "execution_count": 26
        }
      ]
    },
    {
      "cell_type": "code",
      "source": [
        "d_clf_500 = DistribituionClassifier(n=500, clf=RandomForestClassifier())\n",
        "d_clf_500.fit(number_of_experiments=100)\n",
        "d_clf_500.estimate(100)"
      ],
      "metadata": {
        "colab": {
          "base_uri": "https://localhost:8080/"
        },
        "id": "IbF8mh7iu7xL",
        "outputId": "cfd39d68-673a-428b-ef09-01bf50295940"
      },
      "execution_count": null,
      "outputs": [
        {
          "output_type": "execute_result",
          "data": {
            "text/plain": [
              "{'accuracy': 1.0, 'precision': 1.0, 'recall': 1.0}"
            ]
          },
          "metadata": {},
          "execution_count": 11
        }
      ]
    },
    {
      "cell_type": "markdown",
      "source": [
        "Хорошо, попробуем подобрать гиперпараметры случайного леса, чтобы максимизировать точность."
      ],
      "metadata": {
        "id": "yQOMIfs37XPS"
      }
    },
    {
      "cell_type": "code",
      "source": [
        "n_arr = []\n",
        "acc_arr = []\n",
        "for n_estimators in tqdm(range(5, 300+1, 5)):\n",
        "    d_clf_25 = DistribituionClassifier(n=25, clf=RandomForestClassifier(n_estimators=n_estimators))\n",
        "    d_clf_25.fit(number_of_experiments=100)\n",
        "    acc = d_clf_25.estimate(100)['accuracy']\n",
        "    n_arr.append(n_estimators)\n",
        "    acc_arr.append(acc)\n",
        "\n",
        "plt.xlabel('n_estimators')\n",
        "plt.ylabel('accuracy')\n",
        "plt.plot(n_arr, acc_arr)\n",
        "plt.show()"
      ],
      "metadata": {
        "colab": {
          "base_uri": "https://localhost:8080/",
          "height": 467
        },
        "id": "MjOLtBmP7S7z",
        "outputId": "db15542e-b18f-4c41-cb69-e293cd0b95a6"
      },
      "execution_count": null,
      "outputs": [
        {
          "output_type": "stream",
          "name": "stderr",
          "text": [
            "100%|██████████| 60/60 [00:42<00:00,  1.41it/s]\n"
          ]
        },
        {
          "output_type": "display_data",
          "data": {
            "text/plain": [
              "<Figure size 640x480 with 1 Axes>"
            ],
            "image/png": "[encoded data removed]"
          },
          "metadata": {}
        }
      ]
    },
    {
      "cell_type": "markdown",
      "source": [
        "Видно, что гиперпараметр n_estimators почти не влияет на точность, поэтому зафиксируем n_estimators=100 (значение по умолчанию)"
      ],
      "metadata": {
        "id": "TetwOfLU-T5m"
      }
    },
    {
      "cell_type": "markdown",
      "source": [
        "Опытным путем выяснено, что при n = 25 при разных гиперпараметрах точность меняется слабо, видимо, из-за того, что при 25 точках слишком мало признаков для отличия распределения случайным лесом, поэтому будем подбирать гиперпараметры при n = 100"
      ],
      "metadata": {
        "id": "NIR7mJokvqru"
      }
    },
    {
      "cell_type": "code",
      "source": [
        "max_acc = 0\n",
        "best_max_depth = -1\n",
        "best_min_samples_split = -1\n",
        "for max_depth in range(3, 20):\n",
        "    for min_samples_split in range(2, 15):\n",
        "        forest = RandomForestClassifier(max_depth=max_depth, min_samples_split=min_samples_split)\n",
        "        d_clf_100 = DistribituionClassifier(n=100, clf=forest)\n",
        "        d_clf_100.fit(number_of_experiments=300)\n",
        "        acc = d_clf_100.estimate(1000)['accuracy']\n",
        "        if acc > max_acc:\n",
        "            max_acc = acc\n",
        "            best_max_depth = max_depth\n",
        "            best_min_samples_split = min_samples_split\n",
        "            print(f\"acc={acc}, max_depth={max_depth}, min_samples_split={min_samples_split}\")"
      ],
      "metadata": {
        "colab": {
          "base_uri": "https://localhost:8080/"
        },
        "id": "KGkzYuw4-wlO",
        "outputId": "a267ec67-1583-4be0-cc24-54b510621d07"
      },
      "execution_count": null,
      "outputs": [
        {
          "metadata": {
            "tags": null
          },
          "name": "stdout",
          "output_type": "stream",
          "text": [
            "acc=0.936, max_depth=3, min_samples_split=2\n",
            "acc=0.9405, max_depth=3, min_samples_split=4\n",
            "acc=0.945, max_depth=3, min_samples_split=7\n",
            "acc=0.947, max_depth=3, min_samples_split=8\n",
            "acc=0.949, max_depth=4, min_samples_split=4\n",
            "acc=0.955, max_depth=4, min_samples_split=8\n",
            "acc=0.956, max_depth=9, min_samples_split=13\n",
            "acc=0.958, max_depth=10, min_samples_split=12\n"
          ]
        }
      ]
    },
    {
      "cell_type": "markdown",
      "source": [
        "Код выполняется очень долго, запигем выводы:\n",
        "\n",
        "acc=0.936, max_depth=3, min_samples_split=2.  \n",
        "acc=0.9405, max_depth=3, min_samples_split=4.  \n",
        "acc=0.945, max_depth=3, min_samples_split=7.  \n",
        "acc=0.947, max_depth=3, min_samples_split=8.  \n",
        "acc=0.949, max_depth=4, min_samples_split=4.  \n",
        "acc=0.955, max_depth=4, min_samples_split=8.  \n",
        "acc=0.956, max_depth=9, min_samples_split=13.  \n",
        "acc=0.958, max_depth=10, min_samples_split=12.  "
      ],
      "metadata": {
        "id": "S83Ug4HVPqbV"
      }
    },
    {
      "cell_type": "code",
      "source": [
        "best_max_depth = 10\n",
        "best_min_samples_split = 12"
      ],
      "metadata": {
        "id": "7B_JR8fBPZOj"
      },
      "execution_count": 8,
      "outputs": []
    },
    {
      "cell_type": "code",
      "source": [
        "d_clf_random = DistribituionClassifier(n=25, clf=RandomForestClassifier(max_depth=best_max_depth, min_samples_split=best_min_samples_split))\n",
        "d_clf_random.fit(number_of_experiments=1000)\n",
        "d_clf_random.estimate(1000)"
      ],
      "metadata": {
        "colab": {
          "base_uri": "https://localhost:8080/"
        },
        "id": "JiOWNYDUGGhw",
        "outputId": "70b58632-2694-4b5c-fe77-a06619abccb0"
      },
      "execution_count": null,
      "outputs": [
        {
          "output_type": "execute_result",
          "data": {
            "text/plain": [
              "{'accuracy': 0.7715, 'precision': 0.7909967845659164, 'recall': 0.738}"
            ]
          },
          "metadata": {},
          "execution_count": 14
        }
      ]
    },
    {
      "cell_type": "code",
      "source": [
        "d_clf_random = DistribituionClassifier(n=100, clf=RandomForestClassifier(max_depth=best_max_depth, min_samples_split=best_min_samples_split))\n",
        "d_clf_random.fit(number_of_experiments=100)\n",
        "d_clf_random.estimate(100)"
      ],
      "metadata": {
        "colab": {
          "base_uri": "https://localhost:8080/"
        },
        "id": "8GRwuIbkIyJp",
        "outputId": "668c1057-6132-4ced-d00b-013d469f7d14"
      },
      "execution_count": null,
      "outputs": [
        {
          "output_type": "execute_result",
          "data": {
            "text/plain": [
              "{'accuracy': 0.95, 'precision': 0.9411764705882353, 'recall': 0.96}"
            ]
          },
          "metadata": {},
          "execution_count": 29
        }
      ]
    },
    {
      "cell_type": "code",
      "source": [
        "d_clf_random = DistribituionClassifier(n=500, clf=RandomForestClassifier(max_depth=best_max_depth, min_samples_split=best_min_samples_split))\n",
        "d_clf_random.fit(number_of_experiments=100)\n",
        "d_clf_random.estimate(100)"
      ],
      "metadata": {
        "colab": {
          "base_uri": "https://localhost:8080/"
        },
        "id": "cz2XiHgGJdox",
        "outputId": "9036adfc-8f13-4c01-dc14-dc6664861e37"
      },
      "execution_count": null,
      "outputs": [
        {
          "output_type": "execute_result",
          "data": {
            "text/plain": [
              "{'accuracy': 1.0, 'precision': 1.0, 'recall': 1.0}"
            ]
          },
          "metadata": {},
          "execution_count": 16
        }
      ]
    },
    {
      "cell_type": "markdown",
      "source": [
        "Точность немного увеличилась"
      ],
      "metadata": {
        "id": "NHBIZIt0KHA8"
      }
    },
    {
      "cell_type": "code",
      "source": [
        "from sklearn.ensemble import BaggingClassifier\n",
        "\n",
        "d_clf_random = DistribituionClassifier(n=25, clf=BaggingClassifier())\n",
        "d_clf_random.fit(number_of_experiments=1000)\n",
        "d_clf_random.estimate(1000)"
      ],
      "metadata": {
        "colab": {
          "base_uri": "https://localhost:8080/"
        },
        "id": "C8Kt80EiKk3H",
        "outputId": "402df109-f372-4334-c06d-8133d6db7e2f"
      },
      "execution_count": null,
      "outputs": [
        {
          "output_type": "execute_result",
          "data": {
            "text/plain": [
              "{'accuracy': 0.7475, 'precision': 0.7624602332979852, 'recall': 0.719}"
            ]
          },
          "metadata": {},
          "execution_count": 17
        }
      ]
    },
    {
      "cell_type": "markdown",
      "source": [
        "Точность немного ниже, чем у RandomForest. Попробуем перебрать гиперпарметр n_estimators"
      ],
      "metadata": {
        "id": "JHwlODpzPNoA"
      }
    },
    {
      "cell_type": "code",
      "source": [
        "n_arr = []\n",
        "acc_arr = []\n",
        "for n_estimators in tqdm(range(5, 300+1, 5)):\n",
        "    d_clf_25 = DistribituionClassifier(n=25, clf=BaggingClassifier(n_estimators=n_estimators))\n",
        "    d_clf_25.fit(number_of_experiments=1_000)\n",
        "    acc = d_clf_25.estimate(500)['accuracy']\n",
        "    n_arr.append(n_estimators)\n",
        "    acc_arr.append(acc)\n",
        "\n",
        "plt.xlabel('n_estimators')\n",
        "plt.ylabel('accuracy')\n",
        "plt.plot(n_arr, acc_arr)\n",
        "plt.show()"
      ],
      "metadata": {
        "colab": {
          "base_uri": "https://localhost:8080/",
          "height": 467
        },
        "id": "jCV9vjdfPZjQ",
        "outputId": "63bd3770-493e-44f0-822e-65f8d983ed91"
      },
      "execution_count": null,
      "outputs": [
        {
          "output_type": "stream",
          "name": "stderr",
          "text": [
            "100%|██████████| 60/60 [04:43<00:00,  4.73s/it]\n"
          ]
        },
        {
          "output_type": "display_data",
          "data": {
            "text/plain": [
              "<Figure size 640x480 with 1 Axes>"
            ],
            "image/png": "[encoded data removed]"
          },
          "metadata": {}
        }
      ]
    },
    {
      "cell_type": "markdown",
      "source": [
        "Возьмем n_estimators = 300"
      ],
      "metadata": {
        "id": "bMCGgYWiQwmp"
      }
    },
    {
      "cell_type": "code",
      "source": [
        "d_clf_25 = DistribituionClassifier(n=25, clf=BaggingClassifier(n_estimators=300))\n",
        "d_clf_25.fit(1_000)\n",
        "d_clf_25.estimate(1_000)"
      ],
      "metadata": {
        "colab": {
          "base_uri": "https://localhost:8080/"
        },
        "id": "A0UR0YMXQ0yn",
        "outputId": "d757a3f9-147b-46ec-e1f8-83c468e86797"
      },
      "execution_count": null,
      "outputs": [
        {
          "output_type": "execute_result",
          "data": {
            "text/plain": [
              "{'accuracy': 0.745, 'precision': 0.7578947368421053, 'recall': 0.72}"
            ]
          },
          "metadata": {},
          "execution_count": 19
        }
      ]
    },
    {
      "cell_type": "code",
      "source": [
        "d_clf_100 = DistribituionClassifier(n=100, clf=BaggingClassifier(n_estimators=300))\n",
        "d_clf_100.fit(1_000)\n",
        "d_clf_100.estimate(1_000)"
      ],
      "metadata": {
        "colab": {
          "base_uri": "https://localhost:8080/"
        },
        "id": "Yzph4mNpRlJ_",
        "outputId": "7839ec88-67c3-475f-9402-ad25579e9253"
      },
      "execution_count": null,
      "outputs": [
        {
          "output_type": "execute_result",
          "data": {
            "text/plain": [
              "{'accuracy': 0.9435, 'precision': 0.9448345035105316, 'recall': 0.942}"
            ]
          },
          "metadata": {},
          "execution_count": 20
        }
      ]
    },
    {
      "cell_type": "code",
      "source": [
        "d_clf_500 = DistribituionClassifier(n=500, clf=BaggingClassifier(n_estimators=300))\n",
        "d_clf_500.fit(100)\n",
        "d_clf_500.estimate(100)"
      ],
      "metadata": {
        "colab": {
          "base_uri": "https://localhost:8080/"
        },
        "id": "7vz5-3I2Rq7_",
        "outputId": "ebc37c1c-400e-4a60-f634-ed2dd175aacf"
      },
      "execution_count": null,
      "outputs": [
        {
          "output_type": "execute_result",
          "data": {
            "text/plain": [
              "{'accuracy': 0.995, 'precision': 1.0, 'recall': 0.99}"
            ]
          },
          "metadata": {},
          "execution_count": 21
        }
      ]
    },
    {
      "cell_type": "markdown",
      "source": [
        "Точность чуть ниже, чем у RandomForest. У всех классификаторов очень высокая точность при n = 500, посмотрим на данные, которые получаеются при таком значении n:"
      ],
      "metadata": {
        "id": "oVg4ziA9SbWt"
      }
    },
    {
      "cell_type": "code",
      "source": [
        "d_clf_500.make_data(10)"
      ],
      "metadata": {
        "colab": {
          "base_uri": "https://localhost:8080/",
          "height": 726
        },
        "id": "Ut1zkGdWSfUm",
        "outputId": "60fcd9f0-036d-4d59-e9a3-8210f2c8c35c"
      },
      "execution_count": null,
      "outputs": [
        {
          "output_type": "execute_result",
          "data": {
            "text/plain": [
              "    delta_0  mean_degree_0  max_degree_0  dominating_number_0  \\\n",
              "0         0         87.128           133                   11   \n",
              "1         0         84.232           127                   12   \n",
              "2         1         85.180           128                    9   \n",
              "3         0         84.992           132                   11   \n",
              "4         0         83.504           127                   12   \n",
              "5         0         83.740           125                   11   \n",
              "6         0         82.384           125                   11   \n",
              "7         2         78.664           125                   10   \n",
              "8         0         85.344           126                   12   \n",
              "9         0         87.060           132                   11   \n",
              "10        0         96.500           170                   16   \n",
              "11        0        112.840           199                   12   \n",
              "12        0         99.080           164                   14   \n",
              "13        0        103.724           166                   14   \n",
              "14        0        102.668           170                   14   \n",
              "15        0        105.768           184                   14   \n",
              "16        0         97.748           169                   15   \n",
              "17        0        108.344           188                   17   \n",
              "18        0        111.216           183                   16   \n",
              "19        0        105.484           180                   13   \n",
              "\n",
              "    clique_number_0  delta_1  mean_degree_1  max_degree_1  \\\n",
              "0                76        6        267.368           361   \n",
              "1                70        3        259.144           347   \n",
              "2                76       28        263.372           354   \n",
              "3                77        6        260.992           348   \n",
              "4                72        0        259.108           344   \n",
              "5                75        2        260.544           350   \n",
              "6                70        0        257.784           345   \n",
              "7                76       21        245.848           324   \n",
              "8                70        4        263.948           348   \n",
              "9                74        9        269.128           356   \n",
              "10              107        0        275.328           371   \n",
              "11              120        1        305.068           390   \n",
              "12               92        1        287.524           373   \n",
              "13               92        0        299.404           393   \n",
              "14              100        0        294.572           387   \n",
              "15              105        4        294.332           387   \n",
              "16              101        0        278.108           369   \n",
              "17              114        0        294.032           380   \n",
              "18              102        0        313.176           403   \n",
              "19              107        2        295.660           379   \n",
              "\n",
              "    dominating_number_1  clique_number_1  ...  mean_degree_2  max_degree_2  \\\n",
              "0                     4              209  ...        423.972           477   \n",
              "1                     4              206  ...        420.952           478   \n",
              "2                     3              197  ...        426.916           486   \n",
              "3                     4              210  ...        420.416           477   \n",
              "4                     5              196  ...        419.732           479   \n",
              "5                     4              194  ...        421.404           478   \n",
              "6                     5              206  ...        417.652           474   \n",
              "7                     3              187  ...        409.420           476   \n",
              "8                     4              198  ...        423.760           482   \n",
              "9                     3              205  ...        428.788           480   \n",
              "10                    6              244  ...        416.204           469   \n",
              "11                    4              272  ...        437.792           477   \n",
              "12                    5              251  ...        427.424           472   \n",
              "13                    6              257  ...        435.392           475   \n",
              "14                    5              256  ...        431.788           476   \n",
              "15                    4              262  ...        424.136           466   \n",
              "16                    5              250  ...        417.780           467   \n",
              "17                    6              270  ...        431.952           478   \n",
              "18                    6              275  ...        441.308           478   \n",
              "19                    5              264  ...        432.296           477   \n",
              "\n",
              "    dominating_number_2  clique_number_2  delta_3  mean_degree_3  \\\n",
              "0                     2              362      279        491.904   \n",
              "1                     2              349      247        492.572   \n",
              "2                     2              357      418        495.216   \n",
              "3                     2              349      296        492.292   \n",
              "4                     3              345       59        491.456   \n",
              "5                     2              351      295        492.500   \n",
              "6                     2              346      143        490.780   \n",
              "7                     2              325      369        491.832   \n",
              "8                     2              349      249        492.568   \n",
              "9                     2              357      355        494.148   \n",
              "10                    4              373        2        481.804   \n",
              "11                    2              391       78        490.444   \n",
              "12                    3              374      103        485.560   \n",
              "13                    3              394       14        487.456   \n",
              "14                    3              389       12        487.832   \n",
              "15                    2              388      156        487.588   \n",
              "16                    3              370       98        486.880   \n",
              "17                    3              382        4        484.024   \n",
              "18                    4              404        3        486.432   \n",
              "19                    3              380       55        485.488   \n",
              "\n",
              "    max_degree_3  dominating_number_3  clique_number_3  distribution  \n",
              "0            499                    1              460        normal  \n",
              "1            499                    1              463        normal  \n",
              "2            499                    1              464        normal  \n",
              "3            499                    1              460        normal  \n",
              "4            498                    2              463        normal  \n",
              "5            499                    1              461        normal  \n",
              "6            498                    2              459        normal  \n",
              "7            499                    1              456        normal  \n",
              "8            499                    1              467        normal  \n",
              "9            499                    1              464        normal  \n",
              "10           494                    2              454       laplace  \n",
              "11           498                    2              467       laplace  \n",
              "12           497                    2              462       laplace  \n",
              "13           497                    2              467       laplace  \n",
              "14           497                    2              465       laplace  \n",
              "15           498                    2              458       laplace  \n",
              "16           497                    2              453       laplace  \n",
              "17           495                    2              465       laplace  \n",
              "18           495                    2              474       laplace  \n",
              "19           495                    2              470       laplace  \n",
              "\n",
              "[20 rows x 21 columns]"
            ],
            "text/html": [
              "\n",
              "  <div id=\"df-5dd660c0-120d-4ecc-a498-c62e77aec5db\" class=\"colab-df-container\">\n",
              "    <div>\n",
              "<style scoped>\n",
              "    .dataframe tbody tr th:only-of-type {\n",
              "        vertical-align: middle;\n",
              "    }\n",
              "\n",
              "    .dataframe tbody tr th {\n",
              "        vertical-align: top;\n",
              "    }\n",
              "\n",
              "    .dataframe thead th {\n",
              "        text-align: right;\n",
              "    }\n",
              "</style>\n",
              "<table border=\"1\" class=\"dataframe\">\n",
              "  <thead>\n",
              "    <tr style=\"text-align: right;\">\n",
              "      <th></th>\n",
              "      <th>delta_0</th>\n",
              "      <th>mean_degree_0</th>\n",
              "      <th>max_degree_0</th>\n",
              "      <th>dominating_number_0</th>\n",
              "      <th>clique_number_0</th>\n",
              "      <th>delta_1</th>\n",
              "      <th>mean_degree_1</th>\n",
              "      <th>max_degree_1</th>\n",
              "      <th>dominating_number_1</th>\n",
              "      <th>clique_number_1</th>\n",
              "      <th>...</th>\n",
              "      <th>mean_degree_2</th>\n",
              "      <th>max_degree_2</th>\n",
              "      <th>dominating_number_2</th>\n",
              "      <th>clique_number_2</th>\n",
              "      <th>delta_3</th>\n",
              "      <th>mean_degree_3</th>\n",
              "      <th>max_degree_3</th>\n",
              "      <th>dominating_number_3</th>\n",
              "      <th>clique_number_3</th>\n",
              "      <th>distribution</th>\n",
              "    </tr>\n",
              "  </thead>\n",
              "  <tbody>\n",
              "    <tr>\n",
              "      <th>0</th>\n",
              "      <td>0</td>\n",
              "      <td>87.128</td>\n",
              "      <td>133</td>\n",
              "      <td>11</td>\n",
              "      <td>76</td>\n",
              "      <td>6</td>\n",
              "      <td>267.368</td>\n",
              "      <td>361</td>\n",
              "      <td>4</td>\n",
              "      <td>209</td>\n",
              "      <td>...</td>\n",
              "      <td>423.972</td>\n",
              "      <td>477</td>\n",
              "      <td>2</td>\n",
              "      <td>362</td>\n",
              "      <td>279</td>\n",
              "      <td>491.904</td>\n",
              "      <td>499</td>\n",
              "      <td>1</td>\n",
              "      <td>460</td>\n",
              "      <td>normal</td>\n",
              "    </tr>\n",
              "    <tr>\n",
              "      <th>1</th>\n",
              "      <td>0</td>\n",
              "      <td>84.232</td>\n",
              "      <td>127</td>\n",
              "      <td>12</td>\n",
              "      <td>70</td>\n",
              "      <td>3</td>\n",
              "      <td>259.144</td>\n",
              "      <td>347</td>\n",
              "      <td>4</td>\n",
              "      <td>206</td>\n",
              "      <td>...</td>\n",
              "      <td>420.952</td>\n",
              "      <td>478</td>\n",
              "      <td>2</td>\n",
              "      <td>349</td>\n",
              "      <td>247</td>\n",
              "      <td>492.572</td>\n",
              "      <td>499</td>\n",
              "      <td>1</td>\n",
              "      <td>463</td>\n",
              "      <td>normal</td>\n",
              "    </tr>\n",
              "    <tr>\n",
              "      <th>2</th>\n",
              "      <td>1</td>\n",
              "      <td>85.180</td>\n",
              "      <td>128</td>\n",
              "      <td>9</td>\n",
              "      <td>76</td>\n",
              "      <td>28</td>\n",
              "      <td>263.372</td>\n",
              "      <td>354</td>\n",
              "      <td>3</td>\n",
              "      <td>197</td>\n",
              "      <td>...</td>\n",
              "      <td>426.916</td>\n",
              "      <td>486</td>\n",
              "      <td>2</td>\n",
              "      <td>357</td>\n",
              "      <td>418</td>\n",
              "      <td>495.216</td>\n",
              "      <td>499</td>\n",
              "      <td>1</td>\n",
              "      <td>464</td>\n",
              "      <td>normal</td>\n",
              "    </tr>\n",
              "    <tr>\n",
              "      <th>3</th>\n",
              "      <td>0</td>\n",
              "      <td>84.992</td>\n",
              "      <td>132</td>\n",
              "      <td>11</td>\n",
              "      <td>77</td>\n",
              "      <td>6</td>\n",
              "      <td>260.992</td>\n",
              "      <td>348</td>\n",
              "      <td>4</td>\n",
              "      <td>210</td>\n",
              "      <td>...</td>\n",
              "      <td>420.416</td>\n",
              "      <td>477</td>\n",
              "      <td>2</td>\n",
              "      <td>349</td>\n",
              "      <td>296</td>\n",
              "      <td>492.292</td>\n",
              "      <td>499</td>\n",
              "      <td>1</td>\n",
              "      <td>460</td>\n",
              "      <td>normal</td>\n",
              "    </tr>\n",
              "    <tr>\n",
              "      <th>4</th>\n",
              "      <td>0</td>\n",
              "      <td>83.504</td>\n",
              "      <td>127</td>\n",
              "      <td>12</td>\n",
              "      <td>72</td>\n",
              "      <td>0</td>\n",
              "      <td>259.108</td>\n",
              "      <td>344</td>\n",
              "      <td>5</td>\n",
              "      <td>196</td>\n",
              "      <td>...</td>\n",
              "      <td>419.732</td>\n",
              "      <td>479</td>\n",
              "      <td>3</td>\n",
              "      <td>345</td>\n",
              "      <td>59</td>\n",
              "      <td>491.456</td>\n",
              "      <td>498</td>\n",
              "      <td>2</td>\n",
              "      <td>463</td>\n",
              "      <td>normal</td>\n",
              "    </tr>\n",
              "    <tr>\n",
              "      <th>5</th>\n",
              "      <td>0</td>\n",
              "      <td>83.740</td>\n",
              "      <td>125</td>\n",
              "      <td>11</td>\n",
              "      <td>75</td>\n",
              "      <td>2</td>\n",
              "      <td>260.544</td>\n",
              "      <td>350</td>\n",
              "      <td>4</td>\n",
              "      <td>194</td>\n",
              "      <td>...</td>\n",
              "      <td>421.404</td>\n",
              "      <td>478</td>\n",
              "      <td>2</td>\n",
              "      <td>351</td>\n",
              "      <td>295</td>\n",
              "      <td>492.500</td>\n",
              "      <td>499</td>\n",
              "      <td>1</td>\n",
              "      <td>461</td>\n",
              "      <td>normal</td>\n",
              "    </tr>\n",
              "    <tr>\n",
              "      <th>6</th>\n",
              "      <td>0</td>\n",
              "      <td>82.384</td>\n",
              "      <td>125</td>\n",
              "      <td>11</td>\n",
              "      <td>70</td>\n",
              "      <td>0</td>\n",
              "      <td>257.784</td>\n",
              "      <td>345</td>\n",
              "      <td>5</td>\n",
              "      <td>206</td>\n",
              "      <td>...</td>\n",
              "      <td>417.652</td>\n",
              "      <td>474</td>\n",
              "      <td>2</td>\n",
              "      <td>346</td>\n",
              "      <td>143</td>\n",
              "      <td>490.780</td>\n",
              "      <td>498</td>\n",
              "      <td>2</td>\n",
              "      <td>459</td>\n",
              "      <td>normal</td>\n",
              "    </tr>\n",
              "    <tr>\n",
              "      <th>7</th>\n",
              "      <td>2</td>\n",
              "      <td>78.664</td>\n",
              "      <td>125</td>\n",
              "      <td>10</td>\n",
              "      <td>76</td>\n",
              "      <td>21</td>\n",
              "      <td>245.848</td>\n",
              "      <td>324</td>\n",
              "      <td>3</td>\n",
              "      <td>187</td>\n",
              "      <td>...</td>\n",
              "      <td>409.420</td>\n",
              "      <td>476</td>\n",
              "      <td>2</td>\n",
              "      <td>325</td>\n",
              "      <td>369</td>\n",
              "      <td>491.832</td>\n",
              "      <td>499</td>\n",
              "      <td>1</td>\n",
              "      <td>456</td>\n",
              "      <td>normal</td>\n",
              "    </tr>\n",
              "    <tr>\n",
              "      <th>8</th>\n",
              "      <td>0</td>\n",
              "      <td>85.344</td>\n",
              "      <td>126</td>\n",
              "      <td>12</td>\n",
              "      <td>70</td>\n",
              "      <td>4</td>\n",
              "      <td>263.948</td>\n",
              "      <td>348</td>\n",
              "      <td>4</td>\n",
              "      <td>198</td>\n",
              "      <td>...</td>\n",
              "      <td>423.760</td>\n",
              "      <td>482</td>\n",
              "      <td>2</td>\n",
              "      <td>349</td>\n",
              "      <td>249</td>\n",
              "      <td>492.568</td>\n",
              "      <td>499</td>\n",
              "      <td>1</td>\n",
              "      <td>467</td>\n",
              "      <td>normal</td>\n",
              "    </tr>\n",
              "    <tr>\n",
              "      <th>9</th>\n",
              "      <td>0</td>\n",
              "      <td>87.060</td>\n",
              "      <td>132</td>\n",
              "      <td>11</td>\n",
              "      <td>74</td>\n",
              "      <td>9</td>\n",
              "      <td>269.128</td>\n",
              "      <td>356</td>\n",
              "      <td>3</td>\n",
              "      <td>205</td>\n",
              "      <td>...</td>\n",
              "      <td>428.788</td>\n",
              "      <td>480</td>\n",
              "      <td>2</td>\n",
              "      <td>357</td>\n",
              "      <td>355</td>\n",
              "      <td>494.148</td>\n",
              "      <td>499</td>\n",
              "      <td>1</td>\n",
              "      <td>464</td>\n",
              "      <td>normal</td>\n",
              "    </tr>\n",
              "    <tr>\n",
              "      <th>10</th>\n",
              "      <td>0</td>\n",
              "      <td>96.500</td>\n",
              "      <td>170</td>\n",
              "      <td>16</td>\n",
              "      <td>107</td>\n",
              "      <td>0</td>\n",
              "      <td>275.328</td>\n",
              "      <td>371</td>\n",
              "      <td>6</td>\n",
              "      <td>244</td>\n",
              "      <td>...</td>\n",
              "      <td>416.204</td>\n",
              "      <td>469</td>\n",
              "      <td>4</td>\n",
              "      <td>373</td>\n",
              "      <td>2</td>\n",
              "      <td>481.804</td>\n",
              "      <td>494</td>\n",
              "      <td>2</td>\n",
              "      <td>454</td>\n",
              "      <td>laplace</td>\n",
              "    </tr>\n",
              "    <tr>\n",
              "      <th>11</th>\n",
              "      <td>0</td>\n",
              "      <td>112.840</td>\n",
              "      <td>199</td>\n",
              "      <td>12</td>\n",
              "      <td>120</td>\n",
              "      <td>1</td>\n",
              "      <td>305.068</td>\n",
              "      <td>390</td>\n",
              "      <td>4</td>\n",
              "      <td>272</td>\n",
              "      <td>...</td>\n",
              "      <td>437.792</td>\n",
              "      <td>477</td>\n",
              "      <td>2</td>\n",
              "      <td>391</td>\n",
              "      <td>78</td>\n",
              "      <td>490.444</td>\n",
              "      <td>498</td>\n",
              "      <td>2</td>\n",
              "      <td>467</td>\n",
              "      <td>laplace</td>\n",
              "    </tr>\n",
              "    <tr>\n",
              "      <th>12</th>\n",
              "      <td>0</td>\n",
              "      <td>99.080</td>\n",
              "      <td>164</td>\n",
              "      <td>14</td>\n",
              "      <td>92</td>\n",
              "      <td>1</td>\n",
              "      <td>287.524</td>\n",
              "      <td>373</td>\n",
              "      <td>5</td>\n",
              "      <td>251</td>\n",
              "      <td>...</td>\n",
              "      <td>427.424</td>\n",
              "      <td>472</td>\n",
              "      <td>3</td>\n",
              "      <td>374</td>\n",
              "      <td>103</td>\n",
              "      <td>485.560</td>\n",
              "      <td>497</td>\n",
              "      <td>2</td>\n",
              "      <td>462</td>\n",
              "      <td>laplace</td>\n",
              "    </tr>\n",
              "    <tr>\n",
              "      <th>13</th>\n",
              "      <td>0</td>\n",
              "      <td>103.724</td>\n",
              "      <td>166</td>\n",
              "      <td>14</td>\n",
              "      <td>92</td>\n",
              "      <td>0</td>\n",
              "      <td>299.404</td>\n",
              "      <td>393</td>\n",
              "      <td>6</td>\n",
              "      <td>257</td>\n",
              "      <td>...</td>\n",
              "      <td>435.392</td>\n",
              "      <td>475</td>\n",
              "      <td>3</td>\n",
              "      <td>394</td>\n",
              "      <td>14</td>\n",
              "      <td>487.456</td>\n",
              "      <td>497</td>\n",
              "      <td>2</td>\n",
              "      <td>467</td>\n",
              "      <td>laplace</td>\n",
              "    </tr>\n",
              "    <tr>\n",
              "      <th>14</th>\n",
              "      <td>0</td>\n",
              "      <td>102.668</td>\n",
              "      <td>170</td>\n",
              "      <td>14</td>\n",
              "      <td>100</td>\n",
              "      <td>0</td>\n",
              "      <td>294.572</td>\n",
              "      <td>387</td>\n",
              "      <td>5</td>\n",
              "      <td>256</td>\n",
              "      <td>...</td>\n",
              "      <td>431.788</td>\n",
              "      <td>476</td>\n",
              "      <td>3</td>\n",
              "      <td>389</td>\n",
              "      <td>12</td>\n",
              "      <td>487.832</td>\n",
              "      <td>497</td>\n",
              "      <td>2</td>\n",
              "      <td>465</td>\n",
              "      <td>laplace</td>\n",
              "    </tr>\n",
              "    <tr>\n",
              "      <th>15</th>\n",
              "      <td>0</td>\n",
              "      <td>105.768</td>\n",
              "      <td>184</td>\n",
              "      <td>14</td>\n",
              "      <td>105</td>\n",
              "      <td>4</td>\n",
              "      <td>294.332</td>\n",
              "      <td>387</td>\n",
              "      <td>4</td>\n",
              "      <td>262</td>\n",
              "      <td>...</td>\n",
              "      <td>424.136</td>\n",
              "      <td>466</td>\n",
              "      <td>2</td>\n",
              "      <td>388</td>\n",
              "      <td>156</td>\n",
              "      <td>487.588</td>\n",
              "      <td>498</td>\n",
              "      <td>2</td>\n",
              "      <td>458</td>\n",
              "      <td>laplace</td>\n",
              "    </tr>\n",
              "    <tr>\n",
              "      <th>16</th>\n",
              "      <td>0</td>\n",
              "      <td>97.748</td>\n",
              "      <td>169</td>\n",
              "      <td>15</td>\n",
              "      <td>101</td>\n",
              "      <td>0</td>\n",
              "      <td>278.108</td>\n",
              "      <td>369</td>\n",
              "      <td>5</td>\n",
              "      <td>250</td>\n",
              "      <td>...</td>\n",
              "      <td>417.780</td>\n",
              "      <td>467</td>\n",
              "      <td>3</td>\n",
              "      <td>370</td>\n",
              "      <td>98</td>\n",
              "      <td>486.880</td>\n",
              "      <td>497</td>\n",
              "      <td>2</td>\n",
              "      <td>453</td>\n",
              "      <td>laplace</td>\n",
              "    </tr>\n",
              "    <tr>\n",
              "      <th>17</th>\n",
              "      <td>0</td>\n",
              "      <td>108.344</td>\n",
              "      <td>188</td>\n",
              "      <td>17</td>\n",
              "      <td>114</td>\n",
              "      <td>0</td>\n",
              "      <td>294.032</td>\n",
              "      <td>380</td>\n",
              "      <td>6</td>\n",
              "      <td>270</td>\n",
              "      <td>...</td>\n",
              "      <td>431.952</td>\n",
              "      <td>478</td>\n",
              "      <td>3</td>\n",
              "      <td>382</td>\n",
              "      <td>4</td>\n",
              "      <td>484.024</td>\n",
              "      <td>495</td>\n",
              "      <td>2</td>\n",
              "      <td>465</td>\n",
              "      <td>laplace</td>\n",
              "    </tr>\n",
              "    <tr>\n",
              "      <th>18</th>\n",
              "      <td>0</td>\n",
              "      <td>111.216</td>\n",
              "      <td>183</td>\n",
              "      <td>16</td>\n",
              "      <td>102</td>\n",
              "      <td>0</td>\n",
              "      <td>313.176</td>\n",
              "      <td>403</td>\n",
              "      <td>6</td>\n",
              "      <td>275</td>\n",
              "      <td>...</td>\n",
              "      <td>441.308</td>\n",
              "      <td>478</td>\n",
              "      <td>4</td>\n",
              "      <td>404</td>\n",
              "      <td>3</td>\n",
              "      <td>486.432</td>\n",
              "      <td>495</td>\n",
              "      <td>2</td>\n",
              "      <td>474</td>\n",
              "      <td>laplace</td>\n",
              "    </tr>\n",
              "    <tr>\n",
              "      <th>19</th>\n",
              "      <td>0</td>\n",
              "      <td>105.484</td>\n",
              "      <td>180</td>\n",
              "      <td>13</td>\n",
              "      <td>107</td>\n",
              "      <td>2</td>\n",
              "      <td>295.660</td>\n",
              "      <td>379</td>\n",
              "      <td>5</td>\n",
              "      <td>264</td>\n",
              "      <td>...</td>\n",
              "      <td>432.296</td>\n",
              "      <td>477</td>\n",
              "      <td>3</td>\n",
              "      <td>380</td>\n",
              "      <td>55</td>\n",
              "      <td>485.488</td>\n",
              "      <td>495</td>\n",
              "      <td>2</td>\n",
              "      <td>470</td>\n",
              "      <td>laplace</td>\n",
              "    </tr>\n",
              "  </tbody>\n",
              "</table>\n",
              "<p>20 rows × 21 columns</p>\n",
              "</div>\n",
              "    <div class=\"colab-df-buttons\">\n",
              "\n",
              "  <div class=\"colab-df-container\">\n",
              "    <button class=\"colab-df-convert\" onclick=\"convertToInteractive('df-5dd660c0-120d-4ecc-a498-c62e77aec5db')\"\n",
              "            title=\"Convert this dataframe to an interactive table.\"\n",
              "            style=\"display:none;\">\n",
              "\n",
              "  <svg xmlns=\"http://www.w3.org/2000/svg\" height=\"24px\" viewBox=\"0 -960 960 960\">\n",
              "    <path d=\"M120-120v-720h720v720H120Zm60-500h600v-160H180v160Zm220 220h160v-160H400v160Zm0 220h160v-160H400v160ZM180-400h160v-160H180v160Zm440 0h160v-160H620v160ZM180-180h160v-160H180v160Zm440 0h160v-160H620v160Z\"/>\n",
              "  </svg>\n",
              "    </button>\n",
              "\n",
              "  <style>\n",
              "    .colab-df-container {\n",
              "      display:flex;\n",
              "      gap: 12px;\n",
              "    }\n",
              "\n",
              "    .colab-df-convert {\n",
              "      background-color: #E8F0FE;\n",
              "      border: none;\n",
              "      border-radius: 50%;\n",
              "      cursor: pointer;\n",
              "      display: none;\n",
              "      fill: #1967D2;\n",
              "      height: 32px;\n",
              "      padding: 0 0 0 0;\n",
              "      width: 32px;\n",
              "    }\n",
              "\n",
              "    .colab-df-convert:hover {\n",
              "      background-color: #E2EBFA;\n",
              "      box-shadow: 0px 1px 2px rgba(60, 64, 67, 0.3), 0px 1px 3px 1px rgba(60, 64, 67, 0.15);\n",
              "      fill: #174EA6;\n",
              "    }\n",
              "\n",
              "    .colab-df-buttons div {\n",
              "      margin-bottom: 4px;\n",
              "    }\n",
              "\n",
              "    [theme=dark] .colab-df-convert {\n",
              "      background-color: #3B4455;\n",
              "      fill: #D2E3FC;\n",
              "    }\n",
              "\n",
              "    [theme=dark] .colab-df-convert:hover {\n",
              "      background-color: #434B5C;\n",
              "      box-shadow: 0px 1px 3px 1px rgba(0, 0, 0, 0.15);\n",
              "      filter: drop-shadow(0px 1px 2px rgba(0, 0, 0, 0.3));\n",
              "      fill: #FFFFFF;\n",
              "    }\n",
              "  </style>\n",
              "\n",
              "    <script>\n",
              "      const buttonEl =\n",
              "        document.querySelector('#df-5dd660c0-120d-4ecc-a498-c62e77aec5db button.colab-df-convert');\n",
              "      buttonEl.style.display =\n",
              "        google.colab.kernel.accessAllowed ? 'block' : 'none';\n",
              "\n",
              "      async function convertToInteractive(key) {\n",
              "        const element = document.querySelector('#df-5dd660c0-120d-4ecc-a498-c62e77aec5db');\n",
              "        const dataTable =\n",
              "          await google.colab.kernel.invokeFunction('convertToInteractive',\n",
              "                                                    [key], {});\n",
              "        if (!dataTable) return;\n",
              "\n",
              "        const docLinkHtml = 'Like what you see? Visit the ' +\n",
              "          '<a target=\"_blank\" href=https://colab.research.google.com/notebooks/data_table.ipynb>data table notebook</a>'\n",
              "          + ' to learn more about interactive tables.';\n",
              "        element.innerHTML = '';\n",
              "        dataTable['output_type'] = 'display_data';\n",
              "        await google.colab.output.renderOutput(dataTable, element);\n",
              "        const docLink = document.createElement('div');\n",
              "        docLink.innerHTML = docLinkHtml;\n",
              "        element.appendChild(docLink);\n",
              "      }\n",
              "    </script>\n",
              "  </div>\n",
              "\n",
              "\n",
              "    <div id=\"df-63076956-e210-4bc3-9707-4cd3c195a961\">\n",
              "      <button class=\"colab-df-quickchart\" onclick=\"quickchart('df-63076956-e210-4bc3-9707-4cd3c195a961')\"\n",
              "                title=\"Suggest charts\"\n",
              "                style=\"display:none;\">\n",
              "\n",
              "<svg xmlns=\"http://www.w3.org/2000/svg\" height=\"24px\"viewBox=\"0 0 24 24\"\n",
              "     width=\"24px\">\n",
              "    <g>\n",
              "        <path d=\"M19 3H5c-1.1 0-2 .9-2 2v14c0 1.1.9 2 2 2h14c1.1 0 2-.9 2-2V5c0-1.1-.9-2-2-2zM9 17H7v-7h2v7zm4 0h-2V7h2v10zm4 0h-2v-4h2v4z\"/>\n",
              "    </g>\n",
              "</svg>\n",
              "      </button>\n",
              "\n",
              "<style>\n",
              "  .colab-df-quickchart {\n",
              "      --bg-color: #E8F0FE;\n",
              "      --fill-color: #1967D2;\n",
              "      --hover-bg-color: #E2EBFA;\n",
              "      --hover-fill-color: #174EA6;\n",
              "      --disabled-fill-color: #AAA;\n",
              "      --disabled-bg-color: #DDD;\n",
              "  }\n",
              "\n",
              "  [theme=dark] .colab-df-quickchart {\n",
              "      --bg-color: #3B4455;\n",
              "      --fill-color: #D2E3FC;\n",
              "      --hover-bg-color: #434B5C;\n",
              "      --hover-fill-color: #FFFFFF;\n",
              "      --disabled-bg-color: #3B4455;\n",
              "      --disabled-fill-color: #666;\n",
              "  }\n",
              "\n",
              "  .colab-df-quickchart {\n",
              "    background-color: var(--bg-color);\n",
              "    border: none;\n",
              "    border-radius: 50%;\n",
              "    cursor: pointer;\n",
              "    display: none;\n",
              "    fill: var(--fill-color);\n",
              "    height: 32px;\n",
              "    padding: 0;\n",
              "    width: 32px;\n",
              "  }\n",
              "\n",
              "  .colab-df-quickchart:hover {\n",
              "    background-color: var(--hover-bg-color);\n",
              "    box-shadow: 0 1px 2px rgba(60, 64, 67, 0.3), 0 1px 3px 1px rgba(60, 64, 67, 0.15);\n",
              "    fill: var(--button-hover-fill-color);\n",
              "  }\n",
              "\n",
              "  .colab-df-quickchart-complete:disabled,\n",
              "  .colab-df-quickchart-complete:disabled:hover {\n",
              "    background-color: var(--disabled-bg-color);\n",
              "    fill: var(--disabled-fill-color);\n",
              "    box-shadow: none;\n",
              "  }\n",
              "\n",
              "  .colab-df-spinner {\n",
              "    border: 2px solid var(--fill-color);\n",
              "    border-color: transparent;\n",
              "    border-bottom-color: var(--fill-color);\n",
              "    animation:\n",
              "      spin 1s steps(1) infinite;\n",
              "  }\n",
              "\n",
              "  @keyframes spin {\n",
              "    0% {\n",
              "      border-color: transparent;\n",
              "      border-bottom-color: var(--fill-color);\n",
              "      border-left-color: var(--fill-color);\n",
              "    }\n",
              "    20% {\n",
              "      border-color: transparent;\n",
              "      border-left-color: var(--fill-color);\n",
              "      border-top-color: var(--fill-color);\n",
              "    }\n",
              "    30% {\n",
              "      border-color: transparent;\n",
              "      border-left-color: var(--fill-color);\n",
              "      border-top-color: var(--fill-color);\n",
              "      border-right-color: var(--fill-color);\n",
              "    }\n",
              "    40% {\n",
              "      border-color: transparent;\n",
              "      border-right-color: var(--fill-color);\n",
              "      border-top-color: var(--fill-color);\n",
              "    }\n",
              "    60% {\n",
              "      border-color: transparent;\n",
              "      border-right-color: var(--fill-color);\n",
              "    }\n",
              "    80% {\n",
              "      border-color: transparent;\n",
              "      border-right-color: var(--fill-color);\n",
              "      border-bottom-color: var(--fill-color);\n",
              "    }\n",
              "    90% {\n",
              "      border-color: transparent;\n",
              "      border-bottom-color: var(--fill-color);\n",
              "    }\n",
              "  }\n",
              "</style>\n",
              "\n",
              "      <script>\n",
              "        async function quickchart(key) {\n",
              "          const quickchartButtonEl =\n",
              "            document.querySelector('#' + key + ' button');\n",
              "          quickchartButtonEl.disabled = true;  // To prevent multiple clicks.\n",
              "          quickchartButtonEl.classList.add('colab-df-spinner');\n",
              "          try {\n",
              "            const charts = await google.colab.kernel.invokeFunction(\n",
              "                'suggestCharts', [key], {});\n",
              "          } catch (error) {\n",
              "            console.error('Error during call to suggestCharts:', error);\n",
              "          }\n",
              "          quickchartButtonEl.classList.remove('colab-df-spinner');\n",
              "          quickchartButtonEl.classList.add('colab-df-quickchart-complete');\n",
              "        }\n",
              "        (() => {\n",
              "          let quickchartButtonEl =\n",
              "            document.querySelector('#df-63076956-e210-4bc3-9707-4cd3c195a961 button');\n",
              "          quickchartButtonEl.style.display =\n",
              "            google.colab.kernel.accessAllowed ? 'block' : 'none';\n",
              "        })();\n",
              "      </script>\n",
              "    </div>\n",
              "    </div>\n",
              "  </div>\n"
            ],
            "application/vnd.google.colaboratory.intrinsic+json": {
              "type": "dataframe"
            }
          },
          "metadata": {},
          "execution_count": 22
        }
      ]
    },
    {
      "cell_type": "markdown",
      "source": [
        "Некоторые признаки действительно сильно различаются при разных распределениях, поэтому высокая точность не удивляет.   \n",
        "\n",
        "Мощность классификатора равна метрике recall по определению. В лучшем случае (случайный лес) при n = 25 составляет примерно 74%, при n = 100 в районе 96% и при n = 500 самая высокая: 99-100%"
      ],
      "metadata": {
        "id": "5EQOAzIhaHZJ"
      }
    },
    {
      "cell_type": "markdown",
      "source": [
        "Посчитаем ошибку первого рода и важность признаков:"
      ],
      "metadata": {
        "id": "PQEg500ZjyFW"
      }
    },
    {
      "cell_type": "code",
      "source": [
        "d_clf_best_25 = DistribituionClassifier(n=25, clf=RandomForestClassifier(max_depth=best_max_depth, min_samples_split=best_min_samples_split))\n",
        "d_clf_best_25.fit(number_of_experiments=1000)\n",
        "\n",
        "df = d_clf_best_25.make_data(1000)\n",
        "only_normal= df[df['distribution'] == 'normal']\n",
        "X = only_normal.drop('distribution', axis=1)\n",
        "laplace_incorrect = sum(d_clf_best_25.clf.predict(X))\n",
        "err = round(laplace_incorrect/1000, 3)\n",
        "print(f\"error={100 * float(err)}%\")"
      ],
      "metadata": {
        "colab": {
          "base_uri": "https://localhost:8080/"
        },
        "id": "AWYpeS3zj00F",
        "outputId": "9920119c-4458-4f40-e622-72222a03f0f8"
      },
      "execution_count": 9,
      "outputs": [
        {
          "output_type": "stream",
          "name": "stdout",
          "text": [
            "error=22.3%\n"
          ]
        }
      ]
    },
    {
      "cell_type": "code",
      "source": [
        "d_clf_best_100 = DistribituionClassifier(n=100, clf=RandomForestClassifier(max_depth=best_max_depth, min_samples_split=best_min_samples_split))\n",
        "d_clf_best_100.fit(number_of_experiments=1000)\n",
        "\n",
        "df = d_clf_best_100.make_data(1000)\n",
        "only_normal= df[df['distribution'] == 'normal']\n",
        "X = only_normal.drop('distribution', axis=1)\n",
        "laplace_incorrect = sum(d_clf_best_100.clf.predict(X))\n",
        "err = round(laplace_incorrect/1000, 3)\n",
        "print(f\"error={100 * float(err)}%\")"
      ],
      "metadata": {
        "colab": {
          "base_uri": "https://localhost:8080/"
        },
        "id": "f9EBZ58Kk_kL",
        "outputId": "dfc1ff62-31d9-4278-ad5c-840e8365ac57"
      },
      "execution_count": 10,
      "outputs": [
        {
          "output_type": "stream",
          "name": "stdout",
          "text": [
            "error=5.5%\n"
          ]
        }
      ]
    },
    {
      "cell_type": "code",
      "source": [
        "d_clf_best_500 = DistribituionClassifier(n=500, clf=RandomForestClassifier(max_depth=best_max_depth, min_samples_split=best_min_samples_split))\n",
        "d_clf_best_500.fit(number_of_experiments=100)\n",
        "\n",
        "df = d_clf_best_500.make_data(100)\n",
        "only_normal= df[df['distribution'] == 'normal']\n",
        "X = only_normal.drop('distribution', axis=1)\n",
        "laplace_incorrect = sum(d_clf_best_500.clf.predict(X))\n",
        "err = round(laplace_incorrect/100, 2)\n",
        "print(f\"error={100 * float(err)}%\")"
      ],
      "metadata": {
        "colab": {
          "base_uri": "https://localhost:8080/"
        },
        "id": "QtbybCSllJrT",
        "outputId": "4fb493d5-5b00-4a40-ab32-85605bd3dad4"
      },
      "execution_count": 11,
      "outputs": [
        {
          "output_type": "stream",
          "name": "stdout",
          "text": [
            "error=0.0%\n"
          ]
        }
      ]
    },
    {
      "cell_type": "code",
      "source": [
        "feature_importances_25 = d_clf_best_25.clf.feature_importances_\n",
        "plt.figure(figsize=(20, 6))\n",
        "plt.xticks(rotation=45, ha='right')\n",
        "plt.bar(X.columns, feature_importances_25)\n",
        "plt.show()"
      ],
      "metadata": {
        "id": "l_jgpBTxGVmb",
        "outputId": "90d44db7-dfb3-4c10-8dee-9ee17c249bc2",
        "colab": {
          "base_uri": "https://localhost:8080/",
          "height": 629
        }
      },
      "execution_count": 17,
      "outputs": [
        {
          "output_type": "display_data",
          "data": {
            "text/plain": [
              "<Figure size 2000x600 with 1 Axes>"
            ],
            "image/png": "[encoded data removed]"
          },
          "metadata": {}
        }
      ]
    },
    {
      "cell_type": "code",
      "source": [
        "feature_importances_100 = d_clf_best_100.clf.feature_importances_\n",
        "plt.figure(figsize=(20, 6))\n",
        "plt.xticks(rotation=45, ha='right')\n",
        "plt.bar(X.columns, feature_importances_100)\n",
        "plt.show()"
      ],
      "metadata": {
        "id": "34fAiBAYGk_3",
        "outputId": "e1ab85a6-db92-49e7-d654-dca062474243",
        "colab": {
          "base_uri": "https://localhost:8080/",
          "height": 629
        }
      },
      "execution_count": 18,
      "outputs": [
        {
          "output_type": "display_data",
          "data": {
            "text/plain": [
              "<Figure size 2000x600 with 1 Axes>"
            ],
            "image/png": "[encoded data removed]"
          },
          "metadata": {}
        }
      ]
    },
    {
      "cell_type": "code",
      "source": [
        "feature_importances_500 = d_clf_best_500.clf.feature_importances_\n",
        "plt.figure(figsize=(20, 6))\n",
        "plt.xticks(rotation=45, ha='right')\n",
        "plt.bar(X.columns, feature_importances_500)\n",
        "plt.show()"
      ],
      "metadata": {
        "id": "M7ddmZ-BGrCV",
        "outputId": "2f7b7bf3-0a67-46fe-fd64-8b6d64207b3b",
        "colab": {
          "base_uri": "https://localhost:8080/",
          "height": 629
        }
      },
      "execution_count": 19,
      "outputs": [
        {
          "output_type": "display_data",
          "data": {
            "text/plain": [
              "<Figure size 2000x600 with 1 Axes>"
            ],
            "image/png": "[encoded data removed]"
          },
          "metadata": {}
        }
      ]
    },
    {
      "cell_type": "markdown",
      "source": [
        "Важность характеристик слабо меняется при увеличении n, самые заметные изменения заключается в снижении значимости характеристик дистанционного графа с d = 2.0 за исключением кликового числа; во всех случаях самыми важными характеристиками оказались средняя и максимальная степени дистанционного графа при d = 0.3, а также кликовое число при d = 1.0. При n = 25 также важной характеристикой является минимальная степень при d = 2.0, а при n = 500 - кликовое число при d = 0.3"
      ],
      "metadata": {
        "id": "ADqF_hq7IlIw"
      }
    }
  ]
}
