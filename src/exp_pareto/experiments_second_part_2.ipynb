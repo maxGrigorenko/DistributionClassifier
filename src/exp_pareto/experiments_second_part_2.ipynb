{
  "nbformat": 4,
  "nbformat_minor": 0,
  "metadata": {
    "colab": {
      "provenance": []
    },
    "kernelspec": {
      "name": "python3",
      "display_name": "Python 3"
    },
    "language_info": {
      "name": "python"
    }
  },
  "cells": [
    {
      "cell_type": "markdown",
      "source": [
        "# Вторая часть проекта. Разработка модели"
      ],
      "metadata": {
        "id": "z_wi-nGqmWaj"
      }
    },
    {
      "cell_type": "markdown",
      "source": [
        "## 2. Выбор архитектуры модели. Тестирование для разных n"
      ],
      "metadata": {
        "id": "zz0mhpXomdmn"
      }
    },
    {
      "cell_type": "code",
      "source": [
        "import numpy as np\n",
        "import pandas as pd\n",
        "import networkx as nx\n",
        "import matplotlib.pyplot as plt\n",
        "from sklearn.neighbors import NearestNeighbors\n",
        "from sklearn.metrics import pairwise_distances\n",
        "from dataclasses import dataclass\n",
        "from tqdm import tqdm\n",
        "from itertools import product\n",
        "\n",
        "from sklearn.model_selection import GridSearchCV\n",
        "from sklearn.ensemble import RandomForestClassifier\n",
        "from sklearn.model_selection import train_test_split\n",
        "from sklearn.pipeline import Pipeline\n",
        "from sklearn.preprocessing import StandardScaler\n",
        "from sklearn.linear_model import LogisticRegression\n",
        "from sklearn.metrics import accuracy_score, precision_score, recall_score, f1_score, roc_auc_score\n",
        "\n",
        "from graphs import KNN_Graph, Distance_Graph\n",
        "from characteristics_applied import *\n",
        "from visualisations import *\n",
        "from metrics import *\n",
        "from classifier import *"
      ],
      "metadata": {
        "id": "-HOjZiD-zPQb"
      },
      "execution_count": null,
      "outputs": []
    },
    {
      "cell_type": "code",
      "source": [
        "n = 50"
      ],
      "metadata": {
        "id": "dUe8bE5AygPn"
      },
      "execution_count": null,
      "outputs": []
    },
    {
      "cell_type": "markdown",
      "source": [
        "### Базовая модель (рюкзак с контролем ошибки I рода)"
      ],
      "metadata": {
        "id": "87oA-k17mxjV"
      }
    },
    {
      "cell_type": "code",
      "source": [
        "def describe_model_quality(y_pred, y_test, title, info):\n",
        "    accuracy = accuracy_score(y_test, y_pred)\n",
        "    precision = precision_score(y_test, y_pred)\n",
        "    recall = recall_score(y_test, y_pred)\n",
        "    f1 = f1_score(y_test, y_pred)\n",
        "    roc_auc = roc_auc_score(y_test, y_pred)\n",
        "\n",
        "    print(f\"-------------------{title}-------------------\")\n",
        "    print(f'Accuracy: {accuracy}')\n",
        "    print(f'Precision: {precision}')\n",
        "    print(f'Recall: {recall}')\n",
        "    print(f'F1 Score: {f1}')\n",
        "    print(f'ROC AUC: {roc_auc}')\n",
        "\n",
        "    if info['prediction_type'] == 'A_indicator':\n",
        "        model = info['model']\n",
        "        exp_points = info['exp_points']\n",
        "        pareto_points = info['pareto_points']\n",
        "\n",
        "        I_error = calc_I_error_clfr(model, exp_points)\n",
        "        power = calc_power_clfr(model, pareto_points)\n",
        "\n",
        "        print(f'Ошибка первого рода = {I_error}')\n",
        "        print(f'Мощность = {power}')"
      ],
      "metadata": {
        "id": "K0pav-1a5Q78"
      },
      "execution_count": null,
      "outputs": []
    },
    {
      "cell_type": "code",
      "source": [
        "def fit_rucksack_model(n, observations_count=500):\n",
        "    clfr = DistibutionClassifier(n=n, observations_count=observations_count)\n",
        "    clfr_validator = DistibutionClassifier(n=n, observations_count=observations_count // 2)\n",
        "\n",
        "    clfr.generate_important_chars_points()\n",
        "    clfr_validator.generate_important_chars_points()\n",
        "\n",
        "    clfr.fit(clfr_validator.exp_points, clfr_validator.pareto_points, verbose=True)\n",
        "\n",
        "    clfr_tester = DistibutionClassifier(n=n, observations_count=200)\n",
        "    clfr_tester.generate_important_chars_points()\n",
        "    X_test, y_test = clfr_tester.get_points_dataset()\n",
        "\n",
        "    y_pred = clfr.predict_items(X_test)\n",
        "    describe_model_quality(y_pred, y_test, \"Rucksack model metrics\", {\n",
        "        'prediction_type' : 'A_set',\n",
        "        'A_set' : clfr.A,\n",
        "        'tester' : clfr_tester\n",
        "    })"
      ],
      "metadata": {
        "id": "UsT0dXiB-zlE"
      },
      "execution_count": null,
      "outputs": []
    },
    {
      "cell_type": "code",
      "source": [
        "fit_rucksack_model(n=50, observations_count=500)"
      ],
      "metadata": {
        "colab": {
          "base_uri": "https://localhost:8080/",
          "height": 964
        },
        "id": "U-wvLOqi69DF",
        "outputId": "9a42d2bc-d3a8-4b13-fbfb-4e018a66a83e"
      },
      "execution_count": null,
      "outputs": [
        {
          "output_type": "stream",
          "name": "stdout",
          "text": [
            "Generating characteristics...\n"
          ]
        },
        {
          "output_type": "stream",
          "name": "stderr",
          "text": [
            "100%|██████████| 500/500 [00:01<00:00, 333.89it/s]\n"
          ]
        },
        {
          "output_type": "stream",
          "name": "stdout",
          "text": [
            "\n",
            "Characteristics generated!\n",
            "Generating characteristics...\n"
          ]
        },
        {
          "output_type": "stream",
          "name": "stderr",
          "text": [
            "100%|██████████| 250/250 [00:00<00:00, 314.64it/s]\n"
          ]
        },
        {
          "output_type": "stream",
          "name": "stdout",
          "text": [
            "\n",
            "Characteristics generated!\n",
            "Building A...\n"
          ]
        },
        {
          "output_type": "stream",
          "name": "stderr",
          "text": [
            " 83%|████████▎ | 74/89 [00:49<00:10,  1.48it/s]\n"
          ]
        },
        {
          "output_type": "stream",
          "name": "stdout",
          "text": [
            "A builded with power = 0.772, I_error = 0.048!\n"
          ]
        },
        {
          "output_type": "display_data",
          "data": {
            "text/plain": [
              "<Figure size 1200x600 with 2 Axes>"
            ],
            "image/png": "[encoded data removed]"
          },
          "metadata": {}
        },
        {
          "output_type": "stream",
          "name": "stdout",
          "text": [
            "Generating characteristics...\n"
          ]
        },
        {
          "output_type": "stream",
          "name": "stderr",
          "text": [
            "100%|██████████| 200/200 [00:00<00:00, 334.43it/s]\n"
          ]
        },
        {
          "output_type": "stream",
          "name": "stdout",
          "text": [
            "\n",
            "Characteristics generated!\n",
            "-------------------Rucksack model metrics-------------------\n",
            "Accuracy: 0.8075\n",
            "Precision: 0.8682634730538922\n",
            "Recall: 0.725\n",
            "F1 Score: 0.7901907356948229\n",
            "ROC AUC: 0.8075\n"
          ]
        }
      ]
    },
    {
      "cell_type": "markdown",
      "source": [
        "### Случайный лес"
      ],
      "metadata": {
        "id": "Glu59x4Ry2tG"
      }
    },
    {
      "cell_type": "code",
      "source": [
        "def pick_random_forest_model(X_train, y_train):\n",
        "    n_estimators_variants = [5, 10, 50, 100]\n",
        "    max_depth_variants = [None, 5, 10, 20, 40, 80, 160]\n",
        "    min_samples_leaf_variants = [1, 2, 5, 10, 20]\n",
        "\n",
        "    param_grid = {\n",
        "        'n_estimators' : n_estimators_variants,\n",
        "        'max_depth': max_depth_variants,\n",
        "        'min_samples_leaf': min_samples_leaf_variants\n",
        "    }\n",
        "    model_random_forest = RandomForestClassifier(random_state=42)\n",
        "    grid_search = GridSearchCV(estimator=model_random_forest, param_grid=param_grid,\n",
        "                            scoring='f1', cv=5, n_jobs=-1)\n",
        "\n",
        "    grid_search.fit(X_train, y_train.to_numpy().flatten().ravel())\n",
        "    return grid_search.best_estimator_\n",
        "\n",
        "def fit_random_forest_model(n, observations_count=300):\n",
        "    clfr = DistibutionClassifier(n=n, observations_count=observations_count)\n",
        "    clfr.generate_important_chars_points()\n",
        "\n",
        "    X_train, y_train = clfr.get_points_dataset()\n",
        "\n",
        "    model = pick_random_forest_model(X_train, y_train)\n",
        "\n",
        "    clfr_tester = DistibutionClassifier(n=n, observations_count=200)\n",
        "    clfr_tester.generate_important_chars_points()\n",
        "    X_test, y_test = clfr_tester.get_points_dataset()\n",
        "\n",
        "    y_pred = model.predict(X_test)\n",
        "    describe_model_quality(y_pred, y_test, \"Random forest model metrics\", {\n",
        "        'prediction_type' : 'A_indicator',\n",
        "        'model' : model,\n",
        "        'exp_points' : clfr_tester.exp_points,\n",
        "        'pareto_points' : clfr_tester.pareto_points\n",
        "    })"
      ],
      "metadata": {
        "id": "johqg03h-5aH"
      },
      "execution_count": null,
      "outputs": []
    },
    {
      "cell_type": "code",
      "source": [
        "fit_random_forest_model(50, 700)"
      ],
      "metadata": {
        "colab": {
          "base_uri": "https://localhost:8080/"
        },
        "id": "kKXBlnGtBegH",
        "outputId": "bbaddcb2-9e85-487f-84a0-2b91ea5f1819"
      },
      "execution_count": null,
      "outputs": [
        {
          "output_type": "stream",
          "name": "stdout",
          "text": [
            "Generating characteristics...\n"
          ]
        },
        {
          "output_type": "stream",
          "name": "stderr",
          "text": [
            "100%|██████████| 700/700 [00:03<00:00, 210.42it/s]"
          ]
        },
        {
          "output_type": "stream",
          "name": "stdout",
          "text": [
            "\n",
            "Characteristics generated!\n"
          ]
        },
        {
          "output_type": "stream",
          "name": "stderr",
          "text": [
            "\n"
          ]
        },
        {
          "output_type": "stream",
          "name": "stdout",
          "text": [
            "Generating characteristics...\n"
          ]
        },
        {
          "output_type": "stream",
          "name": "stderr",
          "text": [
            "100%|██████████| 200/200 [00:00<00:00, 333.84it/s]\n"
          ]
        },
        {
          "output_type": "stream",
          "name": "stdout",
          "text": [
            "\n",
            "Characteristics generated!\n",
            "-------------------Random forest model metrics-------------------\n",
            "Accuracy: 0.8525\n",
            "Precision: 0.8341232227488151\n",
            "Recall: 0.88\n",
            "F1 Score: 0.8564476885644768\n",
            "ROC AUC: 0.8524999999999999\n",
            "Ошибка первого рода = 0.175\n",
            "Мощность = 0.88\n"
          ]
        }
      ]
    },
    {
      "cell_type": "code",
      "source": [
        "fit_random_forest_model(100, 10)"
      ],
      "metadata": {
        "colab": {
          "base_uri": "https://localhost:8080/"
        },
        "id": "isAH82HA9dBb",
        "outputId": "0ade9b29-6f4e-4867-8447-2fda2a27dc06"
      },
      "execution_count": null,
      "outputs": [
        {
          "output_type": "stream",
          "name": "stdout",
          "text": [
            "Generating characteristics...\n"
          ]
        },
        {
          "output_type": "stream",
          "name": "stderr",
          "text": [
            "100%|██████████| 10/10 [00:00<00:00, 118.00it/s]\n"
          ]
        },
        {
          "output_type": "stream",
          "name": "stdout",
          "text": [
            "\n",
            "Characteristics generated!\n",
            "Generating characteristics...\n"
          ]
        },
        {
          "output_type": "stream",
          "name": "stderr",
          "text": [
            "100%|██████████| 200/200 [00:01<00:00, 114.66it/s]\n"
          ]
        },
        {
          "output_type": "stream",
          "name": "stdout",
          "text": [
            "\n",
            "Characteristics generated!\n",
            "-------------------Random forest model metrics-------------------\n",
            "Accuracy: 0.96\n",
            "Precision: 0.9339622641509434\n",
            "Recall: 0.99\n",
            "F1 Score: 0.9611650485436893\n",
            "ROC AUC: 0.9599999999999999\n",
            "Ошибка первого рода = 0.07\n",
            "Мощность = 0.99\n"
          ]
        }
      ]
    },
    {
      "cell_type": "code",
      "source": [
        "fit_random_forest_model(500, 1500)"
      ],
      "metadata": {
        "colab": {
          "base_uri": "https://localhost:8080/"
        },
        "id": "GxJ_cuR6Bbyg",
        "outputId": "009fccfb-a9b7-4159-e5bc-e01ab6498dea"
      },
      "execution_count": null,
      "outputs": [
        {
          "output_type": "stream",
          "name": "stdout",
          "text": [
            "Generating characteristics...\n"
          ]
        },
        {
          "output_type": "stream",
          "name": "stderr",
          "text": [
            "100%|██████████| 1500/1500 [03:11<00:00,  7.82it/s]\n"
          ]
        },
        {
          "output_type": "stream",
          "name": "stdout",
          "text": [
            "\n",
            "Characteristics generated!\n",
            "Generating characteristics...\n"
          ]
        },
        {
          "output_type": "stream",
          "name": "stderr",
          "text": [
            "100%|██████████| 200/200 [00:26<00:00,  7.58it/s]\n"
          ]
        },
        {
          "output_type": "stream",
          "name": "stdout",
          "text": [
            "\n",
            "Characteristics generated!\n",
            "-------------------Random forest model metrics-------------------\n",
            "Accuracy: 1.0\n",
            "Precision: 1.0\n",
            "Recall: 1.0\n",
            "F1 Score: 1.0\n",
            "ROC AUC: 1.0\n",
            "Ошибка первого рода = 0.0\n",
            "Мощность = 1.0\n"
          ]
        }
      ]
    },
    {
      "cell_type": "markdown",
      "source": [
        "### Логистическая регрессия"
      ],
      "metadata": {
        "id": "RX8WR-GJzCMP"
      }
    },
    {
      "cell_type": "code",
      "source": [
        "def fit_logistic_regression_model(n, observations_count=1000):\n",
        "    clfr = DistibutionClassifier(n=n, observations_count=observations_count)\n",
        "    clfr.generate_important_chars_points()\n",
        "    X_train, y_train = clfr.get_points_dataset()\n",
        "\n",
        "    model = Pipeline([\n",
        "        ('scaler', StandardScaler()),\n",
        "        ('logistic_regression', LogisticRegression())\n",
        "    ])\n",
        "    model.fit(X_train, y_train.to_numpy().flatten().ravel())\n",
        "\n",
        "    clfr_tester = DistibutionClassifier(n=n, observations_count=200)\n",
        "    clfr_tester.generate_important_chars_points()\n",
        "    X_test, y_test = clfr_tester.get_points_dataset()\n",
        "\n",
        "    y_pred = model.predict(X_test)\n",
        "    describe_model_quality(y_pred, y_test, \"Logistic regression model metrics\", {\n",
        "        'prediction_type' : 'A_indicator',\n",
        "        'model' : model,\n",
        "        'exp_points' : clfr_tester.exp_points,\n",
        "        'pareto_points' : clfr_tester.pareto_points\n",
        "    })"
      ],
      "metadata": {
        "id": "1u7CXpiklK7B"
      },
      "execution_count": null,
      "outputs": []
    },
    {
      "cell_type": "code",
      "source": [
        "fit_logistic_regression_model(50, 700)"
      ],
      "metadata": {
        "colab": {
          "base_uri": "https://localhost:8080/"
        },
        "id": "aR1XxDSdAIe3",
        "outputId": "11109fbe-1dcb-49eb-fa58-b18a94e1aa9a"
      },
      "execution_count": null,
      "outputs": [
        {
          "output_type": "stream",
          "name": "stdout",
          "text": [
            "Generating characteristics...\n"
          ]
        },
        {
          "output_type": "stream",
          "name": "stderr",
          "text": [
            "100%|██████████| 700/700 [00:05<00:00, 132.75it/s]\n"
          ]
        },
        {
          "output_type": "stream",
          "name": "stdout",
          "text": [
            "\n",
            "Characteristics generated!\n",
            "Generating characteristics...\n"
          ]
        },
        {
          "output_type": "stream",
          "name": "stderr",
          "text": [
            "100%|██████████| 200/200 [00:00<00:00, 308.53it/s]"
          ]
        },
        {
          "output_type": "stream",
          "name": "stdout",
          "text": [
            "\n",
            "Characteristics generated!\n",
            "-------------------Logistic regression model metrics-------------------\n",
            "Accuracy: 0.87\n",
            "Precision: 0.8775510204081632\n",
            "Recall: 0.86\n",
            "F1 Score: 0.8686868686868687\n",
            "ROC AUC: 0.8699999999999999\n",
            "Ошибка первого рода = 0.12\n",
            "Мощность = 0.86\n"
          ]
        },
        {
          "output_type": "stream",
          "name": "stderr",
          "text": [
            "\n"
          ]
        }
      ]
    },
    {
      "cell_type": "code",
      "source": [
        "fit_logistic_regression_model(100, 500)"
      ],
      "metadata": {
        "colab": {
          "base_uri": "https://localhost:8080/"
        },
        "id": "4HEtWai2AEbt",
        "outputId": "0f52b955-b9a8-423a-cfd3-1803724cef26"
      },
      "execution_count": null,
      "outputs": [
        {
          "output_type": "stream",
          "name": "stdout",
          "text": [
            "Generating characteristics...\n"
          ]
        },
        {
          "output_type": "stream",
          "name": "stderr",
          "text": [
            "100%|██████████| 500/500 [00:09<00:00, 53.82it/s] \n"
          ]
        },
        {
          "output_type": "stream",
          "name": "stdout",
          "text": [
            "\n",
            "Characteristics generated!\n",
            "Generating characteristics...\n"
          ]
        },
        {
          "output_type": "stream",
          "name": "stderr",
          "text": [
            "100%|██████████| 200/200 [00:02<00:00, 73.19it/s]\n"
          ]
        },
        {
          "output_type": "stream",
          "name": "stdout",
          "text": [
            "\n",
            "Characteristics generated!\n",
            "-------------------Logistic regression model metrics-------------------\n",
            "Accuracy: 0.975\n",
            "Precision: 0.9846938775510204\n",
            "Recall: 0.965\n",
            "F1 Score: 0.9747474747474747\n",
            "ROC AUC: 0.975\n",
            "Ошибка первого рода = 0.015\n",
            "Мощность = 0.965\n"
          ]
        }
      ]
    },
    {
      "cell_type": "code",
      "source": [
        "fit_logistic_regression_model(500, 1500)"
      ],
      "metadata": {
        "colab": {
          "base_uri": "https://localhost:8080/"
        },
        "id": "UXPgtkyn-pAa",
        "outputId": "0497e260-18eb-48f0-fc53-3eb6e539df2c"
      },
      "execution_count": null,
      "outputs": [
        {
          "output_type": "stream",
          "name": "stdout",
          "text": [
            "Generating characteristics...\n"
          ]
        },
        {
          "output_type": "stream",
          "name": "stderr",
          "text": [
            "100%|██████████| 1500/1500 [03:10<00:00,  7.89it/s]\n"
          ]
        },
        {
          "output_type": "stream",
          "name": "stdout",
          "text": [
            "\n",
            "Characteristics generated!\n",
            "Generating characteristics...\n"
          ]
        },
        {
          "output_type": "stream",
          "name": "stderr",
          "text": [
            "100%|██████████| 200/200 [00:25<00:00,  7.93it/s]"
          ]
        },
        {
          "output_type": "stream",
          "name": "stdout",
          "text": [
            "\n",
            "Characteristics generated!\n",
            "-------------------Logistic regression model metrics-------------------\n",
            "Accuracy: 1.0\n",
            "Precision: 1.0\n",
            "Recall: 1.0\n",
            "F1 Score: 1.0\n",
            "ROC AUC: 1.0\n",
            "Ошибка первого рода = 0.0\n",
            "Мощность = 1.0\n"
          ]
        },
        {
          "output_type": "stream",
          "name": "stderr",
          "text": [
            "\n"
          ]
        }
      ]
    }
  ]
}