{
  "cells": [
    {
      "cell_type": "markdown",
      "metadata": {
        "id": "z_wi-nGqmWaj"
      },
      "source": [
        "# Вторая часть проекта. Разработка модели"
      ]
    },
    {
      "cell_type": "markdown",
      "metadata": {
        "id": "zz0mhpXomdmn"
      },
      "source": [
        "## 2. Выбор архитектуры модели. Тестирование для разных n"
      ]
    },
    {
      "cell_type": "code",
      "execution_count": 1,
      "metadata": {
        "id": "-HOjZiD-zPQb"
      },
      "outputs": [],
      "source": [
        "import numpy as np\n",
        "import pandas as pd\n",
        "import networkx as nx\n",
        "import matplotlib.pyplot as plt\n",
        "from sklearn.neighbors import NearestNeighbors\n",
        "from sklearn.metrics import pairwise_distances\n",
        "from dataclasses import dataclass\n",
        "from tqdm import tqdm\n",
        "from itertools import product\n",
        "\n",
        "from sklearn.model_selection import GridSearchCV\n",
        "from sklearn.ensemble import RandomForestClassifier\n",
        "from sklearn.model_selection import train_test_split\n",
        "from sklearn.pipeline import Pipeline\n",
        "from sklearn.preprocessing import StandardScaler\n",
        "from sklearn.linear_model import LogisticRegression\n",
        "from sklearn.metrics import accuracy_score, precision_score, recall_score, f1_score, roc_auc_score\n",
        "\n",
        "from graphs import KNN_Graph, Distance_Graph\n",
        "from characteristics_applied import *\n",
        "from visualisations import *\n",
        "from metrics import *\n",
        "from classifier import *"
      ]
    },
    {
      "cell_type": "markdown",
      "metadata": {
        "id": "87oA-k17mxjV"
      },
      "source": [
        "### Базовая модель (рюкзак с контролем ошибки I рода)"
      ]
    },
    {
      "cell_type": "code",
      "execution_count": 2,
      "metadata": {
        "id": "K0pav-1a5Q78"
      },
      "outputs": [],
      "source": [
        "def describe_model_quality(y_pred, y_test, title, info):\n",
        "    accuracy = accuracy_score(y_test, y_pred)\n",
        "    precision = precision_score(y_test, y_pred)\n",
        "    recall = recall_score(y_test, y_pred)\n",
        "    f1 = f1_score(y_test, y_pred)\n",
        "    roc_auc = roc_auc_score(y_test, y_pred)\n",
        "\n",
        "    print(f\"-------------------{title}-------------------\")\n",
        "    print(f'Accuracy: {accuracy}')\n",
        "    print(f'Precision: {precision}')\n",
        "    print(f'Recall: {recall}')\n",
        "    print(f'F1 Score: {f1}')\n",
        "    print(f'ROC AUC: {roc_auc}')\n",
        "\n",
        "    if info['prediction_type'] == 'A_indicator':\n",
        "        model = info['model']\n",
        "        exp_points = info['exp_points']\n",
        "        pareto_points = info['pareto_points']\n",
        "\n",
        "        I_error = calc_I_error_clfr(model, exp_points)\n",
        "        power = calc_power_clfr(model, pareto_points)\n",
        "\n",
        "        print(f'Ошибка первого рода = {I_error}')\n",
        "        print(f'Мощность = {power}')"
      ]
    },
    {
      "cell_type": "code",
      "execution_count": 3,
      "metadata": {
        "id": "UsT0dXiB-zlE"
      },
      "outputs": [],
      "source": [
        "def fit_rucksack_model(n, observations_count=500):\n",
        "    clfr = DistibutionClassifier(n=n, observations_count=observations_count)\n",
        "    clfr_validator = DistibutionClassifier(n=n, observations_count=observations_count // 2)\n",
        "\n",
        "    clfr.generate_important_chars_points()\n",
        "    clfr_validator.generate_important_chars_points()\n",
        "\n",
        "    clfr.fit(clfr_validator.exp_points, clfr_validator.pareto_points, verbose=True)\n",
        "\n",
        "    clfr_tester = DistibutionClassifier(n=n, observations_count=200)\n",
        "    clfr_tester.generate_important_chars_points()\n",
        "    X_test, y_test = clfr_tester.get_points_dataset()\n",
        "\n",
        "    y_pred = clfr.predict_items(X_test)\n",
        "    describe_model_quality(y_pred, y_test, \"Rucksack model metrics\", {\n",
        "        'prediction_type' : 'A_set',\n",
        "        'A_set' : clfr.A,\n",
        "        'tester' : clfr_tester\n",
        "    })"
      ]
    },
    {
      "cell_type": "code",
      "execution_count": 7,
      "metadata": {
        "colab": {
          "base_uri": "https://localhost:8080/",
          "height": 964
        },
        "id": "U-wvLOqi69DF",
        "outputId": "968f08ed-4568-4f7f-dc0b-a567e254e573"
      },
      "outputs": [
        {
          "name": "stdout",
          "output_type": "stream",
          "text": [
            "Generating characteristics...\n"
          ]
        },
        {
          "name": "stderr",
          "output_type": "stream",
          "text": [
            "100%|██████████| 1200/1200 [00:06<00:00, 176.34it/s]\n"
          ]
        },
        {
          "name": "stdout",
          "output_type": "stream",
          "text": [
            "\n",
            "Characteristics generated!\n",
            "Generating characteristics...\n"
          ]
        },
        {
          "name": "stderr",
          "output_type": "stream",
          "text": [
            "100%|██████████| 600/600 [00:02<00:00, 219.07it/s]\n"
          ]
        },
        {
          "name": "stdout",
          "output_type": "stream",
          "text": [
            "\n",
            "Characteristics generated!\n",
            "Building A...\n"
          ]
        },
        {
          "name": "stderr",
          "output_type": "stream",
          "text": [
            " 92%|█████████▏| 300/327 [25:52<02:19,  5.17s/it]\n"
          ]
        },
        {
          "name": "stdout",
          "output_type": "stream",
          "text": [
            "A builded with power = 0.9416666666666667, I_error = 0.04833333333333333!\n"
          ]
        },
        {
          "data": {
            "image/png": "[encoded data removed]",
            "text/plain": [
              "<Figure size 1200x600 with 2 Axes>"
            ]
          },
          "metadata": {},
          "output_type": "display_data"
        },
        {
          "name": "stdout",
          "output_type": "stream",
          "text": [
            "Generating characteristics...\n"
          ]
        },
        {
          "name": "stderr",
          "output_type": "stream",
          "text": [
            "100%|██████████| 200/200 [00:01<00:00, 186.59it/s]"
          ]
        },
        {
          "name": "stdout",
          "output_type": "stream",
          "text": [
            "\n",
            "Characteristics generated!\n",
            "-------------------Rucksack model metrics-------------------\n",
            "Accuracy: 0.9375\n",
            "Precision: 0.9396984924623115\n",
            "Recall: 0.935\n",
            "F1 Score: 0.9373433583959899\n",
            "ROC AUC: 0.9375\n"
          ]
        },
        {
          "name": "stderr",
          "output_type": "stream",
          "text": [
            "\n"
          ]
        }
      ],
      "source": [
        "fit_rucksack_model(n=75, observations_count=1200)"
      ]
    },
    {
      "cell_type": "markdown",
      "metadata": {
        "id": "Glu59x4Ry2tG"
      },
      "source": [
        "### Случайный лес"
      ]
    },
    {
      "cell_type": "code",
      "execution_count": 10,
      "metadata": {
        "id": "johqg03h-5aH"
      },
      "outputs": [],
      "source": [
        "def pick_random_forest_model(X_train, y_train):\n",
        "    n_estimators_variants = [5, 10, 50, 100]\n",
        "    max_depth_variants = [None, 5, 10, 20, 40, 80, 160]\n",
        "    min_samples_leaf_variants = [1, 2, 5, 10, 20]\n",
        "\n",
        "    param_grid = {\n",
        "        'n_estimators' : n_estimators_variants,\n",
        "        'max_depth': max_depth_variants,\n",
        "        'min_samples_leaf': min_samples_leaf_variants\n",
        "    }\n",
        "    model_random_forest = RandomForestClassifier(random_state=42)\n",
        "    grid_search = GridSearchCV(estimator=model_random_forest, param_grid=param_grid,\n",
        "                            scoring='f1', cv=5, n_jobs=-1)\n",
        "\n",
        "    grid_search.fit(X_train, y_train.to_numpy().flatten().ravel())\n",
        "    return grid_search.best_estimator_\n",
        "\n",
        "def fit_random_forest_model(n, observations_count=300):\n",
        "    clfr = DistibutionClassifier(n=n, observations_count=observations_count)\n",
        "    clfr.generate_important_chars_points()\n",
        "\n",
        "    X_train, y_train = clfr.get_points_dataset()\n",
        "\n",
        "    model = pick_random_forest_model(X_train, y_train)\n",
        "\n",
        "    clfr_tester = DistibutionClassifier(n=n, observations_count=200)\n",
        "    clfr_tester.generate_important_chars_points()\n",
        "    X_test, y_test = clfr_tester.get_points_dataset()\n",
        "\n",
        "    y_pred = model.predict(X_test)\n",
        "    describe_model_quality(y_pred, y_test, f\"Random forest model metrics (n = {n})\", {\n",
        "        'prediction_type' : 'A_indicator',\n",
        "        'model' : model,\n",
        "        'exp_points' : clfr_tester.exp_points,\n",
        "        'pareto_points' : clfr_tester.pareto_points\n",
        "    })"
      ]
    },
    {
      "cell_type": "code",
      "execution_count": 11,
      "metadata": {
        "colab": {
          "base_uri": "https://localhost:8080/"
        },
        "id": "kKXBlnGtBegH",
        "outputId": "5e73fde2-cd7d-4647-b5cc-87d21f0e7152"
      },
      "outputs": [
        {
          "name": "stdout",
          "output_type": "stream",
          "text": [
            "Generating characteristics...\n"
          ]
        },
        {
          "name": "stderr",
          "output_type": "stream",
          "text": [
            "100%|██████████| 700/700 [00:02<00:00, 336.97it/s]"
          ]
        },
        {
          "name": "stdout",
          "output_type": "stream",
          "text": [
            "\n",
            "Characteristics generated!\n"
          ]
        },
        {
          "name": "stderr",
          "output_type": "stream",
          "text": [
            "\n"
          ]
        },
        {
          "name": "stdout",
          "output_type": "stream",
          "text": [
            "Generating characteristics...\n"
          ]
        },
        {
          "name": "stderr",
          "output_type": "stream",
          "text": [
            "100%|██████████| 200/200 [00:01<00:00, 196.84it/s]\n"
          ]
        },
        {
          "name": "stdout",
          "output_type": "stream",
          "text": [
            "\n",
            "Characteristics generated!\n",
            "-------------------Random forest model metrics (n = 50)-------------------\n",
            "Accuracy: 0.875\n",
            "Precision: 0.8865979381443299\n",
            "Recall: 0.86\n",
            "F1 Score: 0.8730964467005076\n",
            "ROC AUC: 0.875\n",
            "Ошибка первого рода = 0.11\n",
            "Мощность = 0.86\n"
          ]
        }
      ],
      "source": [
        "fit_random_forest_model(50, 700)"
      ]
    },
    {
      "cell_type": "code",
      "execution_count": 12,
      "metadata": {
        "colab": {
          "base_uri": "https://localhost:8080/"
        },
        "id": "isAH82HA9dBb",
        "outputId": "b778d070-9c0c-424e-9530-4f9f9ea33bb3"
      },
      "outputs": [
        {
          "name": "stdout",
          "output_type": "stream",
          "text": [
            "Generating characteristics...\n"
          ]
        },
        {
          "name": "stderr",
          "output_type": "stream",
          "text": [
            "100%|██████████| 1000/1000 [00:07<00:00, 141.78it/s]\n"
          ]
        },
        {
          "name": "stdout",
          "output_type": "stream",
          "text": [
            "\n",
            "Characteristics generated!\n",
            "Generating characteristics...\n"
          ]
        },
        {
          "name": "stderr",
          "output_type": "stream",
          "text": [
            "100%|██████████| 200/200 [00:01<00:00, 144.56it/s]"
          ]
        },
        {
          "name": "stdout",
          "output_type": "stream",
          "text": [
            "\n",
            "Characteristics generated!\n",
            "-------------------Random forest model metrics (n = 100)-------------------\n",
            "Accuracy: 0.985\n",
            "Precision: 0.9801980198019802\n",
            "Recall: 0.99\n",
            "F1 Score: 0.9850746268656716\n",
            "ROC AUC: 0.985\n",
            "Ошибка первого рода = 0.02\n",
            "Мощность = 0.99\n"
          ]
        },
        {
          "name": "stderr",
          "output_type": "stream",
          "text": [
            "\n"
          ]
        }
      ],
      "source": [
        "fit_random_forest_model(100, 1000)"
      ]
    },
    {
      "cell_type": "code",
      "execution_count": 13,
      "metadata": {
        "colab": {
          "base_uri": "https://localhost:8080/"
        },
        "id": "GxJ_cuR6Bbyg",
        "outputId": "b46fba33-143f-4c5b-eb5b-119ce16857c7"
      },
      "outputs": [
        {
          "name": "stdout",
          "output_type": "stream",
          "text": [
            "Generating characteristics...\n"
          ]
        },
        {
          "name": "stderr",
          "output_type": "stream",
          "text": [
            "100%|██████████| 1500/1500 [03:02<00:00,  8.21it/s]\n"
          ]
        },
        {
          "name": "stdout",
          "output_type": "stream",
          "text": [
            "\n",
            "Characteristics generated!\n",
            "Generating characteristics...\n"
          ]
        },
        {
          "name": "stderr",
          "output_type": "stream",
          "text": [
            "100%|██████████| 200/200 [00:24<00:00,  8.20it/s]"
          ]
        },
        {
          "name": "stdout",
          "output_type": "stream",
          "text": [
            "\n",
            "Characteristics generated!\n",
            "-------------------Random forest model metrics (n = 500)-------------------\n",
            "Accuracy: 1.0\n",
            "Precision: 1.0\n",
            "Recall: 1.0\n",
            "F1 Score: 1.0\n",
            "ROC AUC: 1.0\n",
            "Ошибка первого рода = 0.0\n",
            "Мощность = 1.0\n"
          ]
        },
        {
          "name": "stderr",
          "output_type": "stream",
          "text": [
            "\n"
          ]
        }
      ],
      "source": [
        "fit_random_forest_model(500, 1500)"
      ]
    },
    {
      "cell_type": "markdown",
      "metadata": {
        "id": "RX8WR-GJzCMP"
      },
      "source": [
        "### Логистическая регрессия"
      ]
    },
    {
      "cell_type": "code",
      "execution_count": 14,
      "metadata": {
        "id": "1u7CXpiklK7B"
      },
      "outputs": [],
      "source": [
        "def fit_logistic_regression_model(n, observations_count=1000):\n",
        "    clfr = DistibutionClassifier(n=n, observations_count=observations_count)\n",
        "    clfr.generate_important_chars_points()\n",
        "    X_train, y_train = clfr.get_points_dataset()\n",
        "\n",
        "    model = Pipeline([\n",
        "        ('scaler', StandardScaler()),\n",
        "        ('logistic_regression', LogisticRegression())\n",
        "    ])\n",
        "    model.fit(X_train, y_train.to_numpy().flatten().ravel())\n",
        "\n",
        "    clfr_tester = DistibutionClassifier(n=n, observations_count=200)\n",
        "    clfr_tester.generate_important_chars_points()\n",
        "    X_test, y_test = clfr_tester.get_points_dataset()\n",
        "\n",
        "    y_pred = model.predict(X_test)\n",
        "    describe_model_quality(y_pred, y_test, f\"Logistic regression model metrics (n = {n})\", {\n",
        "        'prediction_type' : 'A_indicator',\n",
        "        'model' : model,\n",
        "        'exp_points' : clfr_tester.exp_points,\n",
        "        'pareto_points' : clfr_tester.pareto_points\n",
        "    })"
      ]
    },
    {
      "cell_type": "code",
      "execution_count": 15,
      "metadata": {
        "colab": {
          "base_uri": "https://localhost:8080/"
        },
        "id": "aR1XxDSdAIe3",
        "outputId": "b75675dc-dee5-409d-9588-184e4bb6e645"
      },
      "outputs": [
        {
          "name": "stdout",
          "output_type": "stream",
          "text": [
            "Generating characteristics...\n"
          ]
        },
        {
          "name": "stderr",
          "output_type": "stream",
          "text": [
            "100%|██████████| 700/700 [00:02<00:00, 336.97it/s]\n"
          ]
        },
        {
          "name": "stdout",
          "output_type": "stream",
          "text": [
            "\n",
            "Characteristics generated!\n",
            "Generating characteristics...\n"
          ]
        },
        {
          "name": "stderr",
          "output_type": "stream",
          "text": [
            "100%|██████████| 200/200 [00:00<00:00, 314.64it/s]"
          ]
        },
        {
          "name": "stdout",
          "output_type": "stream",
          "text": [
            "\n",
            "Characteristics generated!\n",
            "-------------------Logistic regression model metrics (n = 50)-------------------\n",
            "Accuracy: 0.8575\n",
            "Precision: 0.8864864864864865\n",
            "Recall: 0.82\n",
            "F1 Score: 0.8519480519480519\n",
            "ROC AUC: 0.8574999999999999\n",
            "Ошибка первого рода = 0.105\n",
            "Мощность = 0.82\n"
          ]
        },
        {
          "name": "stderr",
          "output_type": "stream",
          "text": [
            "\n"
          ]
        }
      ],
      "source": [
        "fit_logistic_regression_model(50, 700)"
      ]
    },
    {
      "cell_type": "code",
      "execution_count": 16,
      "metadata": {
        "colab": {
          "base_uri": "https://localhost:8080/"
        },
        "id": "4HEtWai2AEbt",
        "outputId": "b4e0ad9b-5197-4fd3-f8e1-ae09d9276270"
      },
      "outputs": [
        {
          "name": "stdout",
          "output_type": "stream",
          "text": [
            "Generating characteristics...\n"
          ]
        },
        {
          "name": "stderr",
          "output_type": "stream",
          "text": [
            "100%|██████████| 500/500 [00:03<00:00, 146.11it/s]\n"
          ]
        },
        {
          "name": "stdout",
          "output_type": "stream",
          "text": [
            "\n",
            "Characteristics generated!\n",
            "Generating characteristics...\n"
          ]
        },
        {
          "name": "stderr",
          "output_type": "stream",
          "text": [
            "100%|██████████| 200/200 [00:01<00:00, 139.04it/s]\n"
          ]
        },
        {
          "name": "stdout",
          "output_type": "stream",
          "text": [
            "\n",
            "Characteristics generated!\n",
            "-------------------Logistic regression model metrics (n = 100)-------------------\n",
            "Accuracy: 0.985\n",
            "Precision: 0.98989898989899\n",
            "Recall: 0.98\n",
            "F1 Score: 0.9849246231155779\n",
            "ROC AUC: 0.985\n",
            "Ошибка первого рода = 0.01\n",
            "Мощность = 0.98\n"
          ]
        }
      ],
      "source": [
        "fit_logistic_regression_model(100, 500)"
      ]
    },
    {
      "cell_type": "code",
      "execution_count": 17,
      "metadata": {
        "colab": {
          "base_uri": "https://localhost:8080/"
        },
        "id": "UXPgtkyn-pAa",
        "outputId": "34c064a0-84c8-4da1-df9b-510d6579535a"
      },
      "outputs": [
        {
          "name": "stdout",
          "output_type": "stream",
          "text": [
            "Generating characteristics...\n"
          ]
        },
        {
          "name": "stderr",
          "output_type": "stream",
          "text": [
            "100%|██████████| 1500/1500 [03:02<00:00,  8.21it/s]\n"
          ]
        },
        {
          "name": "stdout",
          "output_type": "stream",
          "text": [
            "\n",
            "Characteristics generated!\n",
            "Generating characteristics...\n"
          ]
        },
        {
          "name": "stderr",
          "output_type": "stream",
          "text": [
            "100%|██████████| 200/200 [00:23<00:00,  8.55it/s]"
          ]
        },
        {
          "name": "stdout",
          "output_type": "stream",
          "text": [
            "\n",
            "Characteristics generated!\n",
            "-------------------Logistic regression model metrics (n = 500)-------------------\n",
            "Accuracy: 1.0\n",
            "Precision: 1.0\n",
            "Recall: 1.0\n",
            "F1 Score: 1.0\n",
            "ROC AUC: 1.0\n",
            "Ошибка первого рода = 0.0\n",
            "Мощность = 1.0\n"
          ]
        },
        {
          "name": "stderr",
          "output_type": "stream",
          "text": [
            "\n"
          ]
        }
      ],
      "source": [
        "fit_logistic_regression_model(500, 1500)"
      ]
    }
  ],
  "metadata": {
    "colab": {
      "provenance": []
    },
    "kernelspec": {
      "display_name": "Python 3",
      "name": "python3"
    },
    "language_info": {
      "name": "python"
    }
  },
  "nbformat": 4,
  "nbformat_minor": 0
}
