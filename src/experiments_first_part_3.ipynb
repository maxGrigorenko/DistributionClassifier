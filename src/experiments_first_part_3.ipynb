{
  "nbformat": 4,
  "nbformat_minor": 0,
  "metadata": {
    "colab": {
      "provenance": [],
      "authorship_tag": "ABX9TyOXNwIpPQIXyu5yTfIbkshJ",
      "include_colab_link": true
    },
    "kernelspec": {
      "name": "python3",
      "display_name": "Python 3"
    },
    "language_info": {
      "name": "python"
    }
  },
  "cells": [
    {
      "cell_type": "markdown",
      "metadata": {
        "id": "view-in-github",
        "colab_type": "text"
      },
      "source": [
        "<a href=\"https://colab.research.google.com/github/maxGrigorenko/DistributionClassifier/blob/maxGrigorenko%2Ffirst_part/src/experiments_first_part_3.ipynb\" target=\"_parent\"><img src=\"https://colab.research.google.com/assets/colab-badge.svg\" alt=\"Open In Colab\"/></a>"
      ]
    },
    {
      "cell_type": "markdown",
      "source": [
        "# Классификация распределений. Первая часть проекта\n",
        "## 3. Построение множества $\\mathscr{A}$ и оценка ошибки\n"
      ],
      "metadata": {
        "id": "eHNaD6s4qwQr"
      }
    },
    {
      "cell_type": "code",
      "execution_count": 1,
      "metadata": {
        "id": "Qmgsz-EMqLHv"
      },
      "outputs": [],
      "source": [
        "import numpy as np\n",
        "import pandas as pd\n",
        "import matplotlib.pyplot as plt\n",
        "from tqdm import tqdm\n",
        "from itertools import product\n",
        "\n",
        "\n",
        "from graph_common_functions import *\n",
        "from distibution_functions import *"
      ]
    },
    {
      "cell_type": "code",
      "source": [
        "sigma = 1\n",
        "beta = (1/2) ** 0.5"
      ],
      "metadata": {
        "id": "FjUL-rbCsiEy"
      },
      "execution_count": 2,
      "outputs": []
    },
    {
      "cell_type": "code",
      "source": [
        "class DominationNubmerStats:\n",
        "    def __init__(self, value):\n",
        "        self.value = value\n",
        "        self.normal_counter = 0\n",
        "        self.laplace_counter = 0\n",
        "\n",
        "def get_stats(n, d, number_of_experiments=1000, alpha=0.05, verbose=True):\n",
        "    domination_number_stats = [DominationNubmerStats(v) for v in range(1, 100+1)]\n",
        "\n",
        "    if verbose:\n",
        "        experiments = tqdm(range(number_of_experiments))\n",
        "    else:\n",
        "        experiments = range(number_of_experiments)\n",
        "    for t in experiments:\n",
        "        normal_array = generate_normal(sigma, n)\n",
        "        g = distance_graph_constructor(normal_array, d)\n",
        "        dominating_number = g.compute_dominating_number(d)\n",
        "        inx = dominating_number - 1\n",
        "        domination_number_stats[inx].normal_counter += 1\n",
        "\n",
        "        laplace_array = generate_laplace(beta, n)\n",
        "        g = distance_graph_constructor(laplace_array, d)\n",
        "        dominating_number = g.compute_dominating_number(d)\n",
        "        inx = dominating_number - 1\n",
        "        domination_number_stats[inx].laplace_counter += 1\n",
        "\n",
        "    return domination_number_stats\n",
        "\n",
        "def construct_A(n, d, number_of_experiments=1000, alpha=0.05, verbose=True, from_err2=False):\n",
        "    A = []\n",
        "    domination_number_stats = get_stats(n, d, number_of_experiments=number_of_experiments, alpha=alpha, verbose=verbose)\n",
        "    for d in domination_number_stats:\n",
        "        if (d.laplace_counter + d.normal_counter) > 0:\n",
        "            err1 = d.laplace_counter/(d.laplace_counter + d.normal_counter)\n",
        "            err2 = d.normal_counter/(d.laplace_counter + d.normal_counter)\n",
        "\n",
        "            if from_err2:\n",
        "                if err2 <= alpha:\n",
        "                    A.append(d.value)\n",
        "\n",
        "            else:\n",
        "                if err1 <= alpha:\n",
        "                    A.append(d.value)\n",
        "\n",
        "    return A"
      ],
      "metadata": {
        "id": "L3qZ6YTHr7ID"
      },
      "execution_count": 3,
      "outputs": []
    },
    {
      "cell_type": "code",
      "source": [
        "for n in range(5, 101, 5):\n",
        "    best_A = []\n",
        "    best_d = 0.0\n",
        "    m = 0\n",
        "    for d_inx in range(1, 40, 3):\n",
        "        d = d_inx/10\n",
        "        A = construct_A(n=n, d=d, number_of_experiments=1000, alpha=0.05, verbose=False)\n",
        "        if len(A) >= m:\n",
        "            best_A = A\n",
        "            best_d = d\n",
        "            m = len(A)\n",
        "\n",
        "    print(f'n={n}, best_d={best_d}, best_A={best_A}')"
      ],
      "metadata": {
        "colab": {
          "base_uri": "https://localhost:8080/"
        },
        "id": "ARO2pWpv9XTJ",
        "outputId": "43327493-a96b-4059-9ee3-55bf88ec3cd5"
      },
      "execution_count": 4,
      "outputs": [
        {
          "output_type": "stream",
          "name": "stdout",
          "text": [
            "n=5, best_d=3.7, best_A=[]\n",
            "n=10, best_d=0.4, best_A=[8]\n",
            "n=15, best_d=0.4, best_A=[9]\n",
            "n=20, best_d=3.7, best_A=[]\n",
            "n=25, best_d=0.1, best_A=[7, 21]\n",
            "n=30, best_d=3.7, best_A=[]\n",
            "n=35, best_d=0.4, best_A=[3]\n",
            "n=40, best_d=0.1, best_A=[24, 25]\n",
            "n=45, best_d=0.1, best_A=[25]\n",
            "n=50, best_d=0.1, best_A=[25, 26]\n",
            "n=55, best_d=3.7, best_A=[]\n",
            "n=60, best_d=0.7, best_A=[2]\n",
            "n=65, best_d=3.7, best_A=[]\n",
            "n=70, best_d=3.7, best_A=[]\n",
            "n=75, best_d=1.6, best_A=[1]\n",
            "n=80, best_d=1.6, best_A=[1]\n",
            "n=85, best_d=1.6, best_A=[1]\n",
            "n=90, best_d=0.1, best_A=[29]\n",
            "n=95, best_d=1.0, best_A=[2]\n",
            "n=100, best_d=3.7, best_A=[]\n"
          ]
        }
      ]
    },
    {
      "cell_type": "markdown",
      "source": [
        "Видно, что даже при рассмотрении множества различных d, при определeнных n, множество $\\mathscr{A}$ бывает путстым, что говорит о слабости критерия, при установке конкретного d (например 1.6) при большинстве значений n множество  $\\mathscr{A}$ будет пустым.   \n",
        "\n",
        "В прошлом блокноте мы увидели, что при значениях d около 3 часто значение доминирующего числа у распределения Лапласа может выделяться. Немного отходя от задания, протестируем построение $\\mathscr{A}$ относительно другой ошибки (то есть в случае, если распрделения поменять местами)"
      ],
      "metadata": {
        "id": "aBq7sLKdAJ5-"
      }
    },
    {
      "cell_type": "code",
      "source": [
        "for n in range(5, 101, 5):\n",
        "    best_A = []\n",
        "    best_d = 0.0\n",
        "    m = 0\n",
        "    for d_inx in range(1, 40, 3):\n",
        "        d = d_inx/10\n",
        "        A = construct_A(n=n, d=d, number_of_experiments=500, alpha=0.05, verbose=False, from_err2=True)\n",
        "        if len(A) >= m:\n",
        "            best_A = A\n",
        "            best_d = d\n",
        "            m = len(A)\n",
        "\n",
        "    print(f'n={n}, best_d={best_d}, best_A={best_A}')"
      ],
      "metadata": {
        "colab": {
          "base_uri": "https://localhost:8080/"
        },
        "id": "n07P4qyuwgVO",
        "outputId": "e4f0e8ca-4ad9-403c-f88d-f1b62badba8c"
      },
      "execution_count": 5,
      "outputs": [
        {
          "output_type": "stream",
          "name": "stdout",
          "text": [
            "n=5, best_d=3.7, best_A=[2]\n",
            "n=10, best_d=3.7, best_A=[2]\n",
            "n=15, best_d=3.7, best_A=[2, 3]\n",
            "n=20, best_d=1.0, best_A=[1, 5]\n",
            "n=25, best_d=1.6, best_A=[4, 5]\n",
            "n=30, best_d=0.1, best_A=[8, 9, 21]\n",
            "n=35, best_d=0.4, best_A=[3, 9, 10]\n",
            "n=40, best_d=3.7, best_A=[2, 3]\n",
            "n=45, best_d=2.2, best_A=[3, 4]\n",
            "n=50, best_d=3.4, best_A=[2, 3]\n",
            "n=55, best_d=1.9, best_A=[3, 4]\n",
            "n=60, best_d=0.4, best_A=[10, 12, 13]\n",
            "n=65, best_d=3.7, best_A=[2, 3]\n",
            "n=70, best_d=1.6, best_A=[1, 4, 5]\n",
            "n=75, best_d=0.4, best_A=[10, 11, 12]\n",
            "n=80, best_d=0.4, best_A=[10, 11, 12]\n",
            "n=85, best_d=1.9, best_A=[3, 4]\n",
            "n=90, best_d=1.6, best_A=[3, 4, 5]\n",
            "n=95, best_d=0.4, best_A=[10, 11, 13]\n",
            "n=100, best_d=0.4, best_A=[10, 11, 12]\n"
          ]
        }
      ]
    },
    {
      "cell_type": "markdown",
      "source": [
        "В частности при d = 3.5"
      ],
      "metadata": {
        "id": "h4YSADRaBtsP"
      }
    },
    {
      "cell_type": "code",
      "source": [
        "d = 3.5\n",
        "for n in range(5, 101, 5):\n",
        "    A = construct_A(n=n, d=d, number_of_experiments=3000, alpha=0.05, verbose=False, from_err2=True)\n",
        "    print(f'n={n}, A={A}')"
      ],
      "metadata": {
        "colab": {
          "base_uri": "https://localhost:8080/"
        },
        "id": "qrUa1bLd1-qm",
        "outputId": "03842f93-4018-4028-c266-5c52f4e8b012"
      },
      "execution_count": 14,
      "outputs": [
        {
          "output_type": "stream",
          "name": "stdout",
          "text": [
            "n=5, A=[2]\n",
            "n=10, A=[2]\n",
            "n=15, A=[2, 3]\n",
            "n=20, A=[2]\n",
            "n=25, A=[2]\n",
            "n=30, A=[2]\n",
            "n=35, A=[2, 3]\n",
            "n=40, A=[2, 3]\n",
            "n=45, A=[2]\n",
            "n=50, A=[2]\n",
            "n=55, A=[2, 3]\n",
            "n=60, A=[2]\n",
            "n=65, A=[2, 3]\n",
            "n=70, A=[2, 3]\n",
            "n=75, A=[2, 3]\n",
            "n=80, A=[2, 3]\n",
            "n=85, A=[2, 3]\n",
            "n=90, A=[2, 3]\n",
            "n=95, A=[2, 3]\n",
            "n=100, A=[2, 3]\n"
          ]
        }
      ]
    },
    {
      "cell_type": "markdown",
      "source": [
        "Это хороший критерий. Как мы видели в прошлом блокноте, при d=3.5 характеристика графа нормального распределения почти всегда 1, а у графа экспоненциального распределения в значительной части случаев (при n > 30 обычно более чем в 15% случаев) значение характеристики больше 1."
      ],
      "metadata": {
        "id": "J76vf-h9DMyM"
      }
    },
    {
      "cell_type": "code",
      "source": [],
      "metadata": {
        "id": "tNUgwrksEUoL"
      },
      "execution_count": null,
      "outputs": []
    }
  ]
}