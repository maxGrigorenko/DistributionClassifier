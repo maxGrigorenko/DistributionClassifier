{
  "nbformat": 4,
  "nbformat_minor": 0,
  "metadata": {
    "colab": {
      "provenance": [],
      "authorship_tag": "ABX9TyOmNDRbI22P3eRh90svoel9",
      "include_colab_link": true
    },
    "kernelspec": {
      "name": "python3",
      "display_name": "Python 3"
    },
    "language_info": {
      "name": "python"
    }
  },
  "cells": [
    {
      "cell_type": "markdown",
      "metadata": {
        "id": "view-in-github",
        "colab_type": "text"
      },
      "source": [
        "<a href=\"https://colab.research.google.com/github/maxGrigorenko/DistributionClassifier/blob/maxGrigorenko%2Ffirst_part/src/experiments_first_part_3.ipynb\" target=\"_parent\"><img src=\"https://colab.research.google.com/assets/colab-badge.svg\" alt=\"Open In Colab\"/></a>"
      ]
    },
    {
      "cell_type": "markdown",
      "source": [
        "# Классификация распределений. Первая часть проекта\n",
        "## 3. Построение множества $\\mathscr{A}$ и оценка ошибки\n"
      ],
      "metadata": {
        "id": "eHNaD6s4qwQr"
      }
    },
    {
      "cell_type": "code",
      "execution_count": 11,
      "metadata": {
        "id": "Qmgsz-EMqLHv"
      },
      "outputs": [],
      "source": [
        "import numpy as np\n",
        "import pandas as pd\n",
        "import matplotlib.pyplot as plt\n",
        "from tqdm import tqdm\n",
        "from itertools import product\n",
        "from scipy import stats as st\n",
        "\n",
        "\n",
        "from graph_common_functions import *\n",
        "from distibution_functions import *"
      ]
    },
    {
      "cell_type": "code",
      "source": [
        "sigma = 1\n",
        "beta = (1/2) ** 0.5"
      ],
      "metadata": {
        "id": "FjUL-rbCsiEy"
      },
      "execution_count": 3,
      "outputs": []
    },
    {
      "cell_type": "code",
      "source": [
        "def construct_A(n, d, number_of_experiments=1000, alpha=0.05, verbose=True, from_err2=False):\n",
        "    A = []\n",
        "\n",
        "    err = 1\n",
        "\n",
        "    while err > alpha:\n",
        "        t = 0\n",
        "        f = 0\n",
        "        results = []\n",
        "        for t in range(number_of_experiments):\n",
        "            normal_array = generate_normal(sigma, n)\n",
        "            g = distance_graph_constructor(normal_array, d)\n",
        "            dominating_number = g.compute_dominating_number(d)\n",
        "            if dominating_number in A:\n",
        "                t += 1\n",
        "            else:\n",
        "                f += 1\n",
        "                results.append(dominating_number)\n",
        "\n",
        "        err = f/number_of_experiments\n",
        "        if verbose:\n",
        "            print(f\"error={err}\")\n",
        "\n",
        "        if len(results) == 0:\n",
        "            return A\n",
        "        res = st.mode(results)\n",
        "        A.append(int(res.mode))\n",
        "\n",
        "    return sorted(A)"
      ],
      "metadata": {
        "id": "L3qZ6YTHr7ID"
      },
      "execution_count": 38,
      "outputs": []
    },
    {
      "cell_type": "code",
      "source": [
        "def estimate_A(n, d, A, number_of_experiments=1000):\n",
        "    t = 0\n",
        "    f = 0\n",
        "    for _ in range(number_of_experiments):\n",
        "        laplace_array = generate_laplace(beta, n)\n",
        "        g = distance_graph_constructor(laplace_array, d)\n",
        "        dominating_number = g.compute_dominating_number(d)\n",
        "        if dominating_number not in A:\n",
        "            t += 1\n",
        "        else:\n",
        "            f += 1\n",
        "\n",
        "    return t/number_of_experiments\n",
        "\n",
        "for n in range(5, 101, 5):\n",
        "    best_A = []\n",
        "    best_d = 0.0\n",
        "    max_p = 0\n",
        "    for d_inx in range(1, 40, 3):\n",
        "        d = d_inx/10\n",
        "        A = construct_A(n=n, d=d, number_of_experiments=1000, alpha=0.05, verbose=False)\n",
        "        p = estimate_A(n, d, A)\n",
        "        if p >= max_p:\n",
        "            best_A = A\n",
        "            best_d = d\n",
        "            max_p = p\n",
        "\n",
        "    print(f'n={n}, max_p={max_p}, best_d={best_d}, best_A={best_A}')"
      ],
      "metadata": {
        "colab": {
          "base_uri": "https://localhost:8080/"
        },
        "id": "ARO2pWpv9XTJ",
        "outputId": "83880318-6295-4763-eb9c-7cc393222d4d"
      },
      "execution_count": 42,
      "outputs": [
        {
          "output_type": "stream",
          "name": "stdout",
          "text": [
            "n=5, max_p=0.023, best_d=3.7, best_A=[1]\n",
            "n=10, max_p=0.044, best_d=3.1, best_A=[1]\n",
            "n=15, max_p=0.038, best_d=3.4, best_A=[1]\n",
            "n=20, max_p=0.046, best_d=3.4, best_A=[1]\n",
            "n=25, max_p=0.033, best_d=0.7, best_A=[2, 3, 4, 5]\n",
            "n=30, max_p=0.08, best_d=3.4, best_A=[1]\n",
            "n=35, max_p=0.087, best_d=3.4, best_A=[1]\n",
            "n=40, max_p=0.08, best_d=1.3, best_A=[1, 2, 3]\n",
            "n=45, max_p=0.081, best_d=3.7, best_A=[1]\n",
            "n=50, max_p=0.1, best_d=0.4, best_A=[4, 5, 6, 7, 8]\n",
            "n=55, max_p=0.087, best_d=3.7, best_A=[1]\n",
            "n=60, max_p=0.099, best_d=3.7, best_A=[1]\n",
            "n=65, max_p=0.08, best_d=2.2, best_A=[2, 1]\n",
            "n=70, max_p=0.194, best_d=1.9, best_A=[1, 2]\n",
            "n=75, max_p=0.199, best_d=1.9, best_A=[1, 2]\n",
            "n=80, max_p=0.205, best_d=1.9, best_A=[1, 2]\n",
            "n=85, max_p=0.226, best_d=1.9, best_A=[1, 2]\n",
            "n=90, max_p=0.229, best_d=1.9, best_A=[1, 2]\n",
            "n=95, max_p=0.237, best_d=1.9, best_A=[1, 2]\n",
            "n=100, max_p=0.233, best_d=1.9, best_A=[1, 2]\n"
          ]
        }
      ]
    },
    {
      "cell_type": "markdown",
      "source": [
        "Видно, что даже при рассмотрении множества различных d, мощность критерия не больше 25%, а при $n < 50$ не превосходит и 10%, что говорит о малой эффективности классификатора."
      ],
      "metadata": {
        "id": "aBq7sLKdAJ5-"
      }
    }
  ]
}